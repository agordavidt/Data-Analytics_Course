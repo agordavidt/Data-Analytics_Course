{
 "cells": [
  {
   "cell_type": "markdown",
   "id": "202add0a",
   "metadata": {},
   "source": [
    "# Pandas"
   ]
  },
  {
   "cell_type": "code",
   "execution_count": null,
   "id": "8ec0902d",
   "metadata": {},
   "outputs": [],
   "source": [
    "!pip install pandas"
   ]
  },
  {
   "cell_type": "code",
   "execution_count": 1,
   "id": "4c44ab16",
   "metadata": {},
   "outputs": [],
   "source": [
    "# import pandas\n",
    "import pandas as pd"
   ]
  },
  {
   "cell_type": "code",
   "execution_count": 15,
   "id": "531a4d7a",
   "metadata": {},
   "outputs": [
    {
     "name": "stdout",
     "output_type": "stream",
     "text": [
      "['Nigeria', 'E. Guinea', 'Ivory Coast', 'G. Bissau']\n"
     ]
    }
   ],
   "source": [
    "# create a list\n",
    "column = [\"Nigeria\", \"E. Guinea\", \"Ivory Coast\", \"G. Bissau\"]\n",
    "flags = [\"green\", \"red\", \"orange\", \"white\"]\n",
    "\n",
    "print(column)"
   ]
  },
  {
   "cell_type": "code",
   "execution_count": 16,
   "id": "57488cf1",
   "metadata": {},
   "outputs": [
    {
     "name": "stdout",
     "output_type": "stream",
     "text": [
      "                  0\n",
      "green       Nigeria\n",
      "red       E. Guinea\n",
      "orange  Ivory Coast\n",
      "white     G. Bissau\n"
     ]
    }
   ],
   "source": [
    "group_Apd.DataFrame(column)"
   ]
  },
  {
   "cell_type": "markdown",
   "id": "9eaeecb2",
   "metadata": {},
   "source": [
    "pandas makes it easier for us to organie our lists/data, giving it a structure and making it more easier to view."
   ]
  },
  {
   "cell_type": "code",
   "execution_count": 6,
   "id": "3176d4da",
   "metadata": {},
   "outputs": [
    {
     "name": "stdout",
     "output_type": "stream",
     "text": [
      "          Team\n",
      "0      Nigeria\n",
      "1    E. Guinea\n",
      "2  Ivory Coast\n",
      "3    G. Bissau\n"
     ]
    }
   ],
   "source": [
    "# name the column\n",
    "dict_groupA = {\"Team\": column}\n",
    "groupA = pd.DataFrame(dict_groupA)\n",
    "print(groupA)"
   ]
  },
  {
   "cell_type": "code",
   "execution_count": 18,
   "id": "4bc84fc7",
   "metadata": {},
   "outputs": [
    {
     "name": "stdout",
     "output_type": "stream",
     "text": [
      "          Team  Played  Points  GD  Won  Lost  Draw\n",
      "0      Nigeria       3       7   2    2     0     1\n",
      "1    E. Guinea       3       7   6    2     0     1\n",
      "2  Ivory Coast       3       3  -3    1     2     0\n",
      "3    G. Bissau       3       0  -5    0     3     0\n"
     ]
    }
   ],
   "source": [
    "# add additional columns to our dataframe\n",
    "dict_groupA = {\"Team\": column,\n",
    "               \"Played\": [3,3,3,3],\n",
    "               \"Points\": [7,7,3,0],\n",
    "              \"GD\":[2,6,-3,-5],\n",
    "              \"Won\":[2,2,1,0],\n",
    "              \"Lost\":[0,0,2,3],\n",
    "              \"Draw\":[1,1,0,0]}\n",
    "\n",
    "groupA = pd.DataFrame(dict_groupA)\n",
    "print(groupA)\n"
   ]
  },
  {
   "cell_type": "code",
   "execution_count": 12,
   "id": "0cb68422",
   "metadata": {},
   "outputs": [
    {
     "name": "stdout",
     "output_type": "stream",
     "text": [
      "0    2\n",
      "1    6\n",
      "2   -3\n",
      "3   -5\n",
      "Name: GD, dtype: int64\n"
     ]
    }
   ],
   "source": [
    "# select values from our dataframe\n",
    "select_col = groupA['GD']\n",
    "print(select_col)"
   ]
  },
  {
   "cell_type": "code",
   "execution_count": 13,
   "id": "0fcb19d4",
   "metadata": {},
   "outputs": [
    {
     "name": "stdout",
     "output_type": "stream",
     "text": [
      "Ivory Coast got : 3 points\n"
     ]
    }
   ],
   "source": [
    "# To select specific value in the dataframe // add the index to the key\n",
    "print(\"Ivory Coast got :\", groupA[\"Points\"][2], \"points\")\n"
   ]
  },
  {
   "cell_type": "code",
   "execution_count": 14,
   "id": "e4721cfa",
   "metadata": {},
   "outputs": [
    {
     "name": "stdout",
     "output_type": "stream",
     "text": [
      "Team      Ivory Coast\n",
      "Played              3\n",
      "Points              3\n",
      "GD                 -3\n",
      "Won                 1\n",
      "Lost                2\n",
      "Draw                0\n",
      "Name: 2, dtype: object\n"
     ]
    }
   ],
   "source": [
    "# select an entire row\n",
    "select_row = groupA.iloc[2]\n",
    "print(select_row)"
   ]
  },
  {
   "cell_type": "code",
   "execution_count": 21,
   "id": "7b1ba341",
   "metadata": {},
   "outputs": [
    {
     "name": "stdout",
     "output_type": "stream",
     "text": [
      "  position         Team  Played  Points  GD  Won  Lost  Draw\n",
      "0    first      Nigeria       3       7   2    2     0     1\n",
      "1   second    E. Guinea       3       7   6    2     0     1\n",
      "2    third  Ivory Coast       3       3  -3    1     2     0\n",
      "3   fourth    G. Bissau       3       0  -5    0     3     0 \n",
      "\n",
      "\n",
      "                 Team  Played  Points  GD  Won  Lost  Draw\n",
      "position                                                  \n",
      "first         Nigeria       3       7   2    2     0     1\n",
      "second      E. Guinea       3       7   6    2     0     1\n",
      "third     Ivory Coast       3       3  -3    1     2     0\n",
      "fourth      G. Bissau       3       0  -5    0     3     0\n"
     ]
    }
   ],
   "source": [
    "# set the index of the dataframe\n",
    "# add additional columns to our dataframe\n",
    "dict_groupA = {\"position\":['first', 'second', 'third', 'fourth'],\n",
    "               \"Team\": column,\n",
    "               \"Played\": [3,3,3,3],\n",
    "               \"Points\": [7,7,3,0],\n",
    "              \"GD\":[2,6,-3,-5],\n",
    "              \"Won\":[2,2,1,0],\n",
    "              \"Lost\":[0,0,2,3],\n",
    "              \"Draw\":[1,1,0,0]}\n",
    "\n",
    "groupA = pd.DataFrame(dict_groupA)\n",
    "print(groupA, \"\\n\\n\")\n",
    "\n",
    "print(groupA.set_index(\"position\"))"
   ]
  },
  {
   "cell_type": "code",
   "execution_count": 22,
   "id": "c44f693a",
   "metadata": {},
   "outputs": [
    {
     "name": "stdout",
     "output_type": "stream",
     "text": [
      "position          third\n",
      "Team        Ivory Coast\n",
      "Played                3\n",
      "Points                3\n",
      "GD                   -3\n",
      "Won                   1\n",
      "Lost                  2\n",
      "Draw                  0\n",
      "Name: 2, dtype: object\n"
     ]
    }
   ],
   "source": [
    "select_row = groupA.iloc[2]\n",
    "print(select_row)"
   ]
  },
  {
   "cell_type": "markdown",
   "id": "bf5870c7",
   "metadata": {},
   "source": [
    "## Class Exercise\n",
    "Create a dataframe for name, weight(kg), and height(m) of 4 individuals"
   ]
  },
  {
   "cell_type": "code",
   "execution_count": null,
   "id": "e1aa3542",
   "metadata": {},
   "outputs": [],
   "source": [
    "\n",
    "bmi = []\n",
    "# bmi = weight / (height**2)\n",
    "for i in range(len(individuals)):\n",
    "    bmi_score = individuals[\"Weight\"][i]/(individuals[\"Height\"][i]**2)\n",
    "    bmi.append(bmi_score)\n",
    "    \n",
    "# create a new column to assign BMI scores\n",
    "individuals['bmi'] = bmi\n",
    "print(individuals)\n"
   ]
  },
  {
   "cell_type": "code",
   "execution_count": 27,
   "id": "9fe618af",
   "metadata": {},
   "outputs": [
    {
     "name": "stdout",
     "output_type": "stream",
     "text": [
      "{'Name': 'John', 'Age': 45, 'State': 'Kano'}\n"
     ]
    }
   ],
   "source": [
    "dictn = {\"Name\": \"John\", \"Age\": 45}\n",
    "\n",
    "state = dictn[\"State\"] = \"Kano\"\n",
    "\n",
    "print(dictn)\n",
    "\n",
    "\n"
   ]
  },
  {
   "cell_type": "code",
   "execution_count": 28,
   "id": "f29b56f8",
   "metadata": {},
   "outputs": [],
   "source": [
    "# saving dataframe into file\n",
    "groupA.to_csv(\"nations_cup.csv\", index=False)"
   ]
  },
  {
   "cell_type": "code",
   "execution_count": null,
   "id": "4e4ba961",
   "metadata": {},
   "outputs": [],
   "source": [
    "# save a text file \n",
    "groupA.to_csv(\"nations_cup.txt\", index=False, sep=\"\\t\")"
   ]
  }
 ],
 "metadata": {
  "kernelspec": {
   "display_name": "Python 3 (ipykernel)",
   "language": "python",
   "name": "python3"
  },
  "language_info": {
   "codemirror_mode": {
    "name": "ipython",
    "version": 3
   },
   "file_extension": ".py",
   "mimetype": "text/x-python",
   "name": "python",
   "nbconvert_exporter": "python",
   "pygments_lexer": "ipython3",
   "version": "3.10.9"
  }
 },
 "nbformat": 4,
 "nbformat_minor": 5
}
