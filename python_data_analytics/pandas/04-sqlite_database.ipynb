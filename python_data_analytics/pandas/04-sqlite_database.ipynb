{
 "cells": [
  {
   "cell_type": "code",
   "execution_count": 1,
   "id": "2365ed9e",
   "metadata": {},
   "outputs": [],
   "source": [
    "# import sqlite3\n",
    "import sqlite3\n"
   ]
  },
  {
   "cell_type": "code",
   "execution_count": 5,
   "id": "2c0a2ce7",
   "metadata": {},
   "outputs": [
    {
     "name": "stdout",
     "output_type": "stream",
     "text": [
      "(1997, 'Grand Theft Auto', 'State of New Guernsey')\n",
      "(1999, 'Grand Theft Auto 2', 'Anywhere, USA')\n",
      "(2001, 'Grand Theft Auto III', 'Liberty City')\n",
      "(2002, 'Grand Theft Auto: Vice City', 'Vice City')\n",
      "(2004, 'Grand Theft Auto', 'State of San Andreas')\n",
      "(2008, 'Grand Theft Auto', 'Liberty City')\n",
      "(2013, 'Grand Theft Auto V', 'Los Santos')\n"
     ]
    }
   ],
   "source": [
    "# create an empty sqlite database\n",
    "connection = sqlite3.connect(\"gta.db\")\n",
    "\n",
    "# create a cursor object to be in charge of all our communication with the database\n",
    "cursor = connection.cursor()\n",
    "\n",
    "# create a table\n",
    "cursor.execute(\"Create table gta (release_year integer, release_name text, city text)\")\n",
    "\n",
    "release_list = [\n",
    "                (1997, \"Grand Theft Auto\", \"State of New Guernsey\"),\n",
    "               (1999, \"Grand Theft Auto 2\", \"Anywhere, USA\"),\n",
    "               (2001, \"Grand Theft Auto III\", \"Liberty City\"),\n",
    "               (2002, \"Grand Theft Auto: Vice City\", \"Vice City\"),\n",
    "               (2004, \"Grand Theft Auto\", \"State of San Andreas\"),\n",
    "               (2008, \"Grand Theft Auto\", \"Liberty City\"),\n",
    "               (2013, \"Grand Theft Auto V\", \"Los Santos\")\n",
    "               ]\n",
    "\n",
    "cursor.executemany(\"insert into gta values (?,?,?)\", release_list)\n",
    "\n",
    "#print database rows\n",
    "for row in cursor.execute(\"Select * from gta\"):\n",
    "    print(row)\n",
    "\n",
    "# terminate established connection\n",
    "connection.close()"
   ]
  },
  {
   "cell_type": "markdown",
   "id": "f5a23790",
   "metadata": {},
   "source": [
    "# Fifa World Cup Winners"
   ]
  },
  {
   "cell_type": "code",
   "execution_count": 8,
   "id": "01c3f1ce",
   "metadata": {},
   "outputs": [
    {
     "ename": "OperationalError",
     "evalue": "table fifa_records already exists",
     "output_type": "error",
     "traceback": [
      "\u001b[1;31m---------------------------------------------------------------------------\u001b[0m",
      "\u001b[1;31mOperationalError\u001b[0m                          Traceback (most recent call last)",
      "Cell \u001b[1;32mIn[8], line 8\u001b[0m\n\u001b[0;32m      5\u001b[0m cursor \u001b[38;5;241m=\u001b[39m connection\u001b[38;5;241m.\u001b[39mcursor()\n\u001b[0;32m      7\u001b[0m \u001b[38;5;66;03m# create a table\u001b[39;00m\n\u001b[1;32m----> 8\u001b[0m \u001b[43mcursor\u001b[49m\u001b[38;5;241;43m.\u001b[39;49m\u001b[43mexecute\u001b[49m\u001b[43m(\u001b[49m\u001b[38;5;124;43m\"\u001b[39;49m\u001b[38;5;124;43mCreate table fifa_records (year integer, winner text, location text, attendace integer)\u001b[39;49m\u001b[38;5;124;43m\"\u001b[39;49m\u001b[43m)\u001b[49m\n\u001b[0;32m     10\u001b[0m fifa_list \u001b[38;5;241m=\u001b[39m [\n\u001b[0;32m     11\u001b[0m                 (\u001b[38;5;241m1994\u001b[39m, \u001b[38;5;124m\"\u001b[39m\u001b[38;5;124mBrazil\u001b[39m\u001b[38;5;124m\"\u001b[39m, \u001b[38;5;124m\"\u001b[39m\u001b[38;5;124mCalifornia, United States\u001b[39m\u001b[38;5;124m\"\u001b[39m, \u001b[38;5;241m94194\u001b[39m),\n\u001b[0;32m     12\u001b[0m                (\u001b[38;5;241m1998\u001b[39m, \u001b[38;5;124m\"\u001b[39m\u001b[38;5;124mFrance\u001b[39m\u001b[38;5;124m\"\u001b[39m, \u001b[38;5;124m\"\u001b[39m\u001b[38;5;124mSaint-Denis, France\u001b[39m\u001b[38;5;124m\"\u001b[39m, \u001b[38;5;241m80000\u001b[39m),\n\u001b[1;32m   (...)\u001b[0m\n\u001b[0;32m     18\u001b[0m             (\u001b[38;5;241m2022\u001b[39m, \u001b[38;5;124m\"\u001b[39m\u001b[38;5;124mArgentina\u001b[39m\u001b[38;5;124m\"\u001b[39m, \u001b[38;5;124m\"\u001b[39m\u001b[38;5;124mLusail, Qatar\u001b[39m\u001b[38;5;124m\"\u001b[39m, \u001b[38;5;241m88966\u001b[39m)\n\u001b[0;32m     19\u001b[0m                ]\n\u001b[0;32m     21\u001b[0m cursor\u001b[38;5;241m.\u001b[39mexecutemany(\u001b[38;5;124m\"\u001b[39m\u001b[38;5;124minsert into fifa_records values (?,?,?,?)\u001b[39m\u001b[38;5;124m\"\u001b[39m, fifa_list)\n",
      "\u001b[1;31mOperationalError\u001b[0m: table fifa_records already exists"
     ]
    }
   ],
   "source": [
    "# create an empty sqlite database\n",
    "connection = sqlite3.connect(\"fifa.db\")\n",
    "\n",
    "# create a cursor object to be in charge of all our communication with the database\n",
    "cursor = connection.cursor()\n",
    "\n",
    "# create a table\n",
    "cursor.execute(\"Create table fifa_records (year integer, winner text, location text, attendace integer)\")\n",
    "\n",
    "fifa_list = [\n",
    "                (1994, \"Brazil\", \"California, United States\", 94194),\n",
    "               (1998, \"France\", \"Saint-Denis, France\", 80000),\n",
    "               (2002, \"Brazil\", \"Berlin, Germany\", 69029),\n",
    "               (2006, \"Italy\", \"California, United States\", 69000),\n",
    "              (2010, \"Spain\", \"Johannesburg, South Africa\", 84490),\n",
    "              (2014, \"Germany\", \"Rio de janeiro, Brazil\", 74738),\n",
    "            (2018, \"France\", \"Moscow, Russia\", 78011),\n",
    "            (2022, \"Argentina\", \"Lusail, Qatar\", 88966)\n",
    "               ]\n",
    "\n",
    "cursor.executemany(\"insert into fifa_records values (?,?,?,?)\", fifa_list)\n",
    "\n",
    "#print database rows\n",
    "for row in cursor.execute(\"Select * from fifa_records\"):\n",
    "    print(row)\n",
    "\n",
    "# terminate established connection\n",
    "connection.close()"
   ]
  },
  {
   "cell_type": "code",
   "execution_count": null,
   "id": "5193aa60",
   "metadata": {},
   "outputs": [],
   "source": []
  }
 ],
 "metadata": {
  "kernelspec": {
   "display_name": "Python 3 (ipykernel)",
   "language": "python",
   "name": "python3"
  },
  "language_info": {
   "codemirror_mode": {
    "name": "ipython",
    "version": 3
   },
   "file_extension": ".py",
   "mimetype": "text/x-python",
   "name": "python",
   "nbconvert_exporter": "python",
   "pygments_lexer": "ipython3",
   "version": "3.10.9"
  }
 },
 "nbformat": 4,
 "nbformat_minor": 5
}
