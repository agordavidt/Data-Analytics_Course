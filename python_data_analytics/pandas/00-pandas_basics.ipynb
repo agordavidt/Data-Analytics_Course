{
 "cells": [
  {
   "cell_type": "markdown",
   "id": "8cb3f859",
   "metadata": {},
   "source": [
    "# Pandas\n",
    "Pandaas is a python library that gives structure to data. It also makes it easy to access and manipulate data."
   ]
  },
  {
   "cell_type": "markdown",
   "id": "9d13abf0",
   "metadata": {},
   "source": [
    "We begin by installing pandas"
   ]
  },
  {
   "cell_type": "code",
   "execution_count": null,
   "id": "34d6feba",
   "metadata": {},
   "outputs": [],
   "source": [
    "!pip install pandas"
   ]
  },
  {
   "cell_type": "markdown",
   "id": "3f290f3b",
   "metadata": {},
   "source": [
    "Then we import into our python file"
   ]
  },
  {
   "cell_type": "code",
   "execution_count": 5,
   "id": "63cd767b",
   "metadata": {},
   "outputs": [],
   "source": [
    "import pandas as pd"
   ]
  },
  {
   "cell_type": "code",
   "execution_count": 18,
   "id": "0d497d23",
   "metadata": {},
   "outputs": [
    {
     "name": "stdout",
     "output_type": "stream",
     "text": [
      "['Nigeria', 'E. Guinea', 'Ivory Coast', 'G. Bissau']\n"
     ]
    }
   ],
   "source": [
    "# create a list\n",
    "column = ['Nigeria', 'E. Guinea', 'Ivory Coast', 'G. Bissau']\n",
    "\n",
    "print(column)"
   ]
  },
  {
   "cell_type": "markdown",
   "id": "9984049c",
   "metadata": {},
   "source": [
    "Whenever we print a python list all we get is a plain text with no special structure."
   ]
  },
  {
   "cell_type": "code",
   "execution_count": 19,
   "id": "797669a7",
   "metadata": {
    "scrolled": true
   },
   "outputs": [
    {
     "name": "stdout",
     "output_type": "stream",
     "text": [
      "             0\n",
      "0      Nigeria\n",
      "1    E. Guinea\n",
      "2  Ivory Coast\n",
      "3    G. Bissau\n"
     ]
    }
   ],
   "source": [
    "# Lets take the list and insert into a dataframe\n",
    "data = pd.DataFrame(column)\n",
    "print(data)"
   ]
  },
  {
   "cell_type": "markdown",
   "id": "c5c2f78b",
   "metadata": {},
   "source": [
    "with pandas, we can organize our list/data into rows and columns thereby giving it a structure and making it more easier to view."
   ]
  },
  {
   "cell_type": "code",
   "execution_count": 20,
   "id": "ce7a4582",
   "metadata": {},
   "outputs": [
    {
     "name": "stdout",
     "output_type": "stream",
     "text": [
      "          Team\n",
      "0      Nigeria\n",
      "1    E. Guinea\n",
      "2  Ivory Coast\n",
      "3    G. Bissau\n"
     ]
    }
   ],
   "source": [
    "# name the column\n",
    "column_title = {\"Team\": column}\n",
    "data = pd.DataFrame(column_title)\n",
    "\n",
    "print(data)"
   ]
  },
  {
   "cell_type": "code",
   "execution_count": 21,
   "id": "05401bac",
   "metadata": {},
   "outputs": [
    {
     "name": "stdout",
     "output_type": "stream",
     "text": [
      "          Team  Points  GD  Won  Lost  Draw\n",
      "0      Nigeria       7   2    2     0     1\n",
      "1    E. Guinea       7   6    2     0     1\n",
      "2  Ivory Coast       3  -3    1     2     0\n",
      "3    G. Bissau       0  -5    0     3     0\n"
     ]
    }
   ],
   "source": [
    "# add new columns to our data\n",
    "column_title = {\"Team\": column, \n",
    "                \"Points\": [7,7,3,0], \n",
    "                \"GD\": [2,6,-3,-5], \n",
    "                \"Won\": [2,2,1,0],\n",
    "               \"Lost\":[0,0,2,3],\n",
    "               \"Draw\":[1,1,0,0]}\n",
    "data = pd.DataFrame(column_title)\n",
    "\n",
    "print(data)"
   ]
  },
  {
   "cell_type": "code",
   "execution_count": null,
   "id": "739ff4c1",
   "metadata": {},
   "outputs": [],
   "source": []
  }
 ],
 "metadata": {
  "kernelspec": {
   "display_name": "Python 3 (ipykernel)",
   "language": "python",
   "name": "python3"
  },
  "language_info": {
   "codemirror_mode": {
    "name": "ipython",
    "version": 3
   },
   "file_extension": ".py",
   "mimetype": "text/x-python",
   "name": "python",
   "nbconvert_exporter": "python",
   "pygments_lexer": "ipython3",
   "version": "3.10.9"
  }
 },
 "nbformat": 4,
 "nbformat_minor": 5
}
