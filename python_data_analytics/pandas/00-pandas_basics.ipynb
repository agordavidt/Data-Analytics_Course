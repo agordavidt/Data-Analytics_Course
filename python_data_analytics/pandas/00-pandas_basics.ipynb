{
 "cells": [
  {
   "cell_type": "markdown",
   "id": "d480dac1",
   "metadata": {},
   "source": [
    "# Pandas\n",
    "Pandaas is a python library that gives structure to data. It also makes it easy to access and manipulate data."
   ]
  },
  {
   "cell_type": "markdown",
   "id": "80e6c6d7",
   "metadata": {},
   "source": [
    "We begin by installing pandas"
   ]
  },
  {
   "cell_type": "code",
   "execution_count": null,
   "id": "dcce8410",
   "metadata": {},
   "outputs": [],
   "source": [
    "!pip install pandas"
   ]
  },
  {
   "cell_type": "markdown",
   "id": "adf0c2a5",
   "metadata": {},
   "source": [
    "Then we import into our python file"
   ]
  },
  {
   "cell_type": "code",
   "execution_count": 5,
   "id": "79b412af",
   "metadata": {},
   "outputs": [],
   "source": [
    "import pandas as pd"
   ]
  },
  {
   "cell_type": "code",
   "execution_count": 18,
   "id": "624bc00f",
   "metadata": {},
   "outputs": [
    {
     "name": "stdout",
     "output_type": "stream",
     "text": [
      "['Nigeria', 'E. Guinea', 'Ivory Coast', 'G. Bissau']\n"
     ]
    }
   ],
   "source": [
    "# create a list\n",
    "column = ['Nigeria', 'E. Guinea', 'Ivory Coast', 'G. Bissau']\n",
    "\n",
    "print(column)"
   ]
  },
  {
   "cell_type": "markdown",
   "id": "23369774",
   "metadata": {},
   "source": [
    "Whenever we print a python list all we get is a plain text with no special structure."
   ]
  },
  {
   "cell_type": "code",
   "execution_count": 19,
   "id": "a440d562",
   "metadata": {
    "scrolled": true
   },
   "outputs": [
    {
     "name": "stdout",
     "output_type": "stream",
     "text": [
      "             0\n",
      "0      Nigeria\n",
      "1    E. Guinea\n",
      "2  Ivory Coast\n",
      "3    G. Bissau\n"
     ]
    }
   ],
   "source": [
    "# Lets take the list and insert into a dataframe\n",
    "data = pd.DataFrame(column)\n",
    "print(data)"
   ]
  },
  {
   "cell_type": "markdown",
   "id": "fc7d4d3c",
   "metadata": {},
   "source": [
    "with pandas, we can organize our list/data into rows and columns thereby giving it a structure and making it more easier to view."
   ]
  },
  {
   "cell_type": "code",
   "execution_count": 20,
   "id": "542245b8",
   "metadata": {},
   "outputs": [
    {
     "name": "stdout",
     "output_type": "stream",
     "text": [
      "          Team\n",
      "0      Nigeria\n",
      "1    E. Guinea\n",
      "2  Ivory Coast\n",
      "3    G. Bissau\n"
     ]
    }
   ],
   "source": [
    "# name the column\n",
    "column_title = {\"Team\": column}\n",
    "data = pd.DataFrame(column_title)\n",
    "\n",
    "print(data)"
   ]
  },
  {
   "cell_type": "code",
   "execution_count": 21,
   "id": "568915ee",
   "metadata": {},
   "outputs": [
    {
     "name": "stdout",
     "output_type": "stream",
     "text": [
      "          Team  Points  GD  Won  Lost  Draw\n",
      "0      Nigeria       7   2    2     0     1\n",
      "1    E. Guinea       7   6    2     0     1\n",
      "2  Ivory Coast       3  -3    1     2     0\n",
      "3    G. Bissau       0  -5    0     3     0\n"
     ]
    }
   ],
   "source": [
    "# add new columns to our dataframe\n",
    "column_title = {\"Team\": column, \n",
    "                \"Points\": [7,7,3,0], \n",
    "                \"GD\": [2,6,-3,-5], \n",
    "                \"Won\": [2,2,1,0],\n",
    "               \"Lost\":[0,0,2,3],\n",
    "               \"Draw\":[1,1,0,0]}\n",
    "data = pd.DataFrame(column_title)\n",
    "\n",
    "print(data)"
   ]
  },
  {
   "cell_type": "code",
   "execution_count": 22,
   "id": "9e96b642",
   "metadata": {},
   "outputs": [
    {
     "name": "stdout",
     "output_type": "stream",
     "text": [
      "0    7\n",
      "1    7\n",
      "2    3\n",
      "3    0\n",
      "Name: Points, dtype: int64\n"
     ]
    }
   ],
   "source": [
    "# select values from our dataframe\n",
    "select_column = data['Points']\n",
    "print(select_column)"
   ]
  },
  {
   "cell_type": "code",
   "execution_count": 24,
   "id": "c50dada3",
   "metadata": {},
   "outputs": [
    {
     "name": "stdout",
     "output_type": "stream",
     "text": [
      "-3\n"
     ]
    }
   ],
   "source": [
    "# to select a specific value we add index to the key\n",
    "# Select 'Ivory Coasts' goal difference\n",
    "select_column = data['GD'][2]\n",
    "print(select_column)\n"
   ]
  },
  {
   "cell_type": "code",
   "execution_count": 25,
   "id": "684353b5",
   "metadata": {},
   "outputs": [
    {
     "name": "stdout",
     "output_type": "stream",
     "text": [
      "Team      Ivory Coast\n",
      "Points              3\n",
      "GD                 -3\n",
      "Won                 1\n",
      "Lost                2\n",
      "Draw                0\n",
      "Name: 2, dtype: object\n"
     ]
    }
   ],
   "source": [
    "# select the entire row for Ivory Coast\n",
    "select_row = data.iloc[2]\n",
    "\n",
    "print(select_row)"
   ]
  },
  {
   "cell_type": "code",
   "execution_count": 27,
   "id": "fd2298a6",
   "metadata": {},
   "outputs": [
    {
     "name": "stdout",
     "output_type": "stream",
     "text": [
      "-3\n"
     ]
    }
   ],
   "source": [
    "# to select specific value using this method\n",
    "select_row = data.iloc[2]['GD']\n",
    "\n",
    "print(select_row)"
   ]
  },
  {
   "cell_type": "markdown",
   "id": "89c8d4a9",
   "metadata": {},
   "source": [
    "<h5>Class Exercise:</h5>\n",
    "<p>Create a dataframe for name, age and height of 4 individuals</p>"
   ]
  },
  {
   "cell_type": "code",
   "execution_count": 29,
   "id": "c1900d83",
   "metadata": {},
   "outputs": [
    {
     "name": "stdout",
     "output_type": "stream",
     "text": [
      "      Name  Weight  Height\n",
      "0   juliet      50    1.65\n",
      "1  Leonard      60    1.73\n",
      "2   sophia      58    1.66\n",
      "3   Daniel      68    1.69\n"
     ]
    }
   ],
   "source": [
    "# Solution\n",
    "records = pd.DataFrame({\"Name\": ['juliet', 'Leonard', 'sophia', 'Daniel'],\n",
    "                       \"Weight\": [50, 60, 58, 68],\n",
    "                       \"Height\": [1.65, 1.73, 1.66, 1.69]})\n",
    "\n",
    "print(records)"
   ]
  },
  {
   "cell_type": "code",
   "execution_count": 31,
   "id": "7118dcca",
   "metadata": {},
   "outputs": [
    {
     "name": "stdout",
     "output_type": "stream",
     "text": [
      "      Name  Weight  Height        bmi\n",
      "0   juliet      50    1.65  18.365473\n",
      "1  Leonard      60    1.73  20.047446\n",
      "2   sophia      58    1.66  21.048048\n",
      "3   Daniel      68    1.69  23.808690\n"
     ]
    }
   ],
   "source": [
    "bmi = []\n",
    "#weight/(height**2)\n",
    "for i in range(len(records)):\n",
    "    bmi_score = records['Weight'][i]/(records['Height'][i]**2)\n",
    "    bmi.append(bmi_score)\n",
    "    \n",
    "#create a new column to assign BMI scores\n",
    "records['bmi'] = bmi\n",
    "\n",
    "print(records)\n"
   ]
  },
  {
   "cell_type": "code",
   "execution_count": 32,
   "id": "3843db12",
   "metadata": {},
   "outputs": [],
   "source": [
    "# save dataframe into a file\n",
    "data.to_csv('bmi.csv')"
   ]
  },
  {
   "cell_type": "code",
   "execution_count": null,
   "id": "9707dffe",
   "metadata": {},
   "outputs": [],
   "source": []
  }
 ],
 "metadata": {
  "kernelspec": {
   "display_name": "Python 3 (ipykernel)",
   "language": "python",
   "name": "python3"
  },
  "language_info": {
   "codemirror_mode": {
    "name": "ipython",
    "version": 3
   },
   "file_extension": ".py",
   "mimetype": "text/x-python",
   "name": "python",
   "nbconvert_exporter": "python",
   "pygments_lexer": "ipython3",
   "version": "3.10.9"
  }
 },
 "nbformat": 4,
 "nbformat_minor": 5
}
