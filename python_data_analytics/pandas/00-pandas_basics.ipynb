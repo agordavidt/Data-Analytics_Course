{
 "cells": [
  {
   "cell_type": "markdown",
   "id": "259a49b8",
   "metadata": {},
   "source": [
    "# Pandas\n",
    "<p>Pandas is a popular open-source data manipulation and analysis library for the python programming language.  It provides a powerful and flexible set of tools for working with structured data, making it a fundamental tool for data scientists, analysts and engineers.</p>\n",
    "<p>Pandas is esigned to handle data in various formats, such as tabular data, time series data and more making it an essentail part of the data processing workflow in many industries.</p>\n",
    "<h5>Key Features and Functionalities of Pandas</h5>\n",
    "<ul>\n",
    "    <li>ofers two primary data structures;<em>DataFrame</em> and <em>Series</em></li>\n",
    "    <li>makes it easy to read data from various sources, including CSV files, excel spreadsheets, SQL databases and more. It can also export data to these formats, enabling seamless data exchange</li>\n",
    "    <li>Data Mergin and Joining: Multiple DataFrames can be combined using methods like merge and join, similar to SQL operations, to create more complex datasets from different sources.</li>\n",
    "    <li>provides efficient indexing and selection methods, allowing for quick access to specific rows and columns of data</li>\n",
    "    <li>used to create custom data structures and manipulate date in ways that suit specific needs, extending Panda's capabilities.</li>\n",
    "</ul>\n",
    "<p></p>"
   ]
  },
  {
   "cell_type": "markdown",
   "id": "ead41f23",
   "metadata": {},
   "source": [
    "We begin by installing pandas"
   ]
  },
  {
   "cell_type": "code",
   "execution_count": null,
   "id": "f23eca3d",
   "metadata": {},
   "outputs": [],
   "source": [
    "!pip install pandas"
   ]
  },
  {
   "cell_type": "markdown",
   "id": "3694d0fc",
   "metadata": {},
   "source": [
    "Then we import into our python file"
   ]
  },
  {
   "cell_type": "code",
   "execution_count": 5,
   "id": "edb5d2f8",
   "metadata": {},
   "outputs": [],
   "source": [
    "import pandas as pd"
   ]
  },
  {
   "cell_type": "code",
   "execution_count": 18,
   "id": "0855206f",
   "metadata": {},
   "outputs": [
    {
     "name": "stdout",
     "output_type": "stream",
     "text": [
      "['Nigeria', 'E. Guinea', 'Ivory Coast', 'G. Bissau']\n"
     ]
    }
   ],
   "source": [
    "# create a list\n",
    "column = ['Nigeria', 'E. Guinea', 'Ivory Coast', 'G. Bissau']\n",
    "\n",
    "print(column)"
   ]
  },
  {
   "cell_type": "markdown",
   "id": "492b11fc",
   "metadata": {},
   "source": [
    "Whenever we print a python list all we get is a plain text with no special structure."
   ]
  },
  {
   "cell_type": "code",
   "execution_count": 19,
   "id": "bc5cbbf2",
   "metadata": {
    "scrolled": true
   },
   "outputs": [
    {
     "name": "stdout",
     "output_type": "stream",
     "text": [
      "             0\n",
      "0      Nigeria\n",
      "1    E. Guinea\n",
      "2  Ivory Coast\n",
      "3    G. Bissau\n"
     ]
    }
   ],
   "source": [
    "# Lets take the list and insert into a dataframe\n",
    "data = pd.DataFrame(column)\n",
    "print(data)"
   ]
  },
  {
   "cell_type": "markdown",
   "id": "c97f71d7",
   "metadata": {},
   "source": [
    "with pandas, we can organize our list/data into rows and columns thereby giving it a structure and making it more easier to view."
   ]
  },
  {
   "cell_type": "code",
   "execution_count": 20,
   "id": "2d26b4f0",
   "metadata": {},
   "outputs": [
    {
     "name": "stdout",
     "output_type": "stream",
     "text": [
      "          Team\n",
      "0      Nigeria\n",
      "1    E. Guinea\n",
      "2  Ivory Coast\n",
      "3    G. Bissau\n"
     ]
    }
   ],
   "source": [
    "# name the column\n",
    "column_title = {\"Team\": column}\n",
    "data = pd.DataFrame(column_title)\n",
    "\n",
    "print(data)"
   ]
  },
  {
   "cell_type": "code",
   "execution_count": 21,
   "id": "7a4f280a",
   "metadata": {},
   "outputs": [
    {
     "name": "stdout",
     "output_type": "stream",
     "text": [
      "          Team  Points  GD  Won  Lost  Draw\n",
      "0      Nigeria       7   2    2     0     1\n",
      "1    E. Guinea       7   6    2     0     1\n",
      "2  Ivory Coast       3  -3    1     2     0\n",
      "3    G. Bissau       0  -5    0     3     0\n"
     ]
    }
   ],
   "source": [
    "# add new columns to our dataframe\n",
    "column_title = {\"Team\": column, \n",
    "                \"Points\": [7,7,3,0], \n",
    "                \"GD\": [2,6,-3,-5], \n",
    "                \"Won\": [2,2,1,0],\n",
    "               \"Lost\":[0,0,2,3],\n",
    "               \"Draw\":[1,1,0,0]}\n",
    "data = pd.DataFrame(column_title)\n",
    "\n",
    "print(data)"
   ]
  },
  {
   "cell_type": "code",
   "execution_count": 22,
   "id": "d8b8642c",
   "metadata": {},
   "outputs": [
    {
     "name": "stdout",
     "output_type": "stream",
     "text": [
      "0    7\n",
      "1    7\n",
      "2    3\n",
      "3    0\n",
      "Name: Points, dtype: int64\n"
     ]
    }
   ],
   "source": [
    "# select values from our dataframe\n",
    "select_column = data['Points']\n",
    "print(select_column)"
   ]
  },
  {
   "cell_type": "code",
   "execution_count": 24,
   "id": "ca2ad7e5",
   "metadata": {},
   "outputs": [
    {
     "name": "stdout",
     "output_type": "stream",
     "text": [
      "-3\n"
     ]
    }
   ],
   "source": [
    "# to select a specific value we add index to the key\n",
    "# Select 'Ivory Coasts' goal difference\n",
    "select_column = data['GD'][2]\n",
    "print(select_column)\n"
   ]
  },
  {
   "cell_type": "code",
   "execution_count": 25,
   "id": "23a5a265",
   "metadata": {},
   "outputs": [
    {
     "name": "stdout",
     "output_type": "stream",
     "text": [
      "Team      Ivory Coast\n",
      "Points              3\n",
      "GD                 -3\n",
      "Won                 1\n",
      "Lost                2\n",
      "Draw                0\n",
      "Name: 2, dtype: object\n"
     ]
    }
   ],
   "source": [
    "# select the entire row for Ivory Coast\n",
    "select_row = data.iloc[2]\n",
    "\n",
    "print(select_row)"
   ]
  },
  {
   "cell_type": "code",
   "execution_count": 27,
   "id": "a2858118",
   "metadata": {},
   "outputs": [
    {
     "name": "stdout",
     "output_type": "stream",
     "text": [
      "-3\n"
     ]
    }
   ],
   "source": [
    "# to select specific value using this method\n",
    "select_row = data.iloc[2]['GD']\n",
    "\n",
    "print(select_row)"
   ]
  },
  {
   "cell_type": "markdown",
   "id": "0a132a31",
   "metadata": {},
   "source": [
    "<h5>Class Exercise:</h5>\n",
    "<p>Create a dataframe for name, age and height of 4 individuals</p>"
   ]
  },
  {
   "cell_type": "code",
   "execution_count": 29,
   "id": "de1974ad",
   "metadata": {},
   "outputs": [
    {
     "name": "stdout",
     "output_type": "stream",
     "text": [
      "      Name  Weight  Height\n",
      "0   juliet      50    1.65\n",
      "1  Leonard      60    1.73\n",
      "2   sophia      58    1.66\n",
      "3   Daniel      68    1.69\n"
     ]
    }
   ],
   "source": [
    "# Solution\n",
    "records = pd.DataFrame({\"Name\": ['juliet', 'Leonard', 'sophia', 'Daniel'],\n",
    "                       \"Weight\": [50, 60, 58, 68],\n",
    "                       \"Height\": [1.65, 1.73, 1.66, 1.69]})\n",
    "\n",
    "print(records)"
   ]
  },
  {
   "cell_type": "code",
   "execution_count": 31,
   "id": "d4c52442",
   "metadata": {},
   "outputs": [
    {
     "name": "stdout",
     "output_type": "stream",
     "text": [
      "      Name  Weight  Height        bmi\n",
      "0   juliet      50    1.65  18.365473\n",
      "1  Leonard      60    1.73  20.047446\n",
      "2   sophia      58    1.66  21.048048\n",
      "3   Daniel      68    1.69  23.808690\n"
     ]
    }
   ],
   "source": [
    "bmi = []\n",
    "#weight/(height**2)\n",
    "for i in range(len(records)):\n",
    "    bmi_score = records['Weight'][i]/(records['Height'][i]**2)\n",
    "    bmi.append(bmi_score)\n",
    "    \n",
    "#create a new column to assign BMI scores\n",
    "records['bmi'] = bmi\n",
    "\n",
    "print(records)\n"
   ]
  },
  {
   "cell_type": "code",
   "execution_count": 33,
   "id": "3e928f61",
   "metadata": {},
   "outputs": [],
   "source": [
    "# save dataframe into a file\n",
    "records.to_csv('bmi.csv')"
   ]
  },
  {
   "cell_type": "code",
   "execution_count": null,
   "id": "da2081f1",
   "metadata": {},
   "outputs": [],
   "source": [
    "# we can use the sep to choose delimeters\n",
    "# records.to_csv('bmi.csv', sep=\"\\t\")"
   ]
  },
  {
   "cell_type": "code",
   "execution_count": 34,
   "id": "7d425192",
   "metadata": {},
   "outputs": [],
   "source": [
    "# we can also save to txt\n",
    "data.to_csv('group_A.txt', sep=\"\\t\")"
   ]
  },
  {
   "cell_type": "code",
   "execution_count": null,
   "id": "43a0fc78",
   "metadata": {},
   "outputs": [],
   "source": [
    "# to get ride of unneccary column we specify index to be false\n",
    "# data.to_csv('group_A.txt', index=False, sep=\"\\t\")"
   ]
  }
 ],
 "metadata": {
  "kernelspec": {
   "display_name": "Python 3 (ipykernel)",
   "language": "python",
   "name": "python3"
  },
  "language_info": {
   "codemirror_mode": {
    "name": "ipython",
    "version": 3
   },
   "file_extension": ".py",
   "mimetype": "text/x-python",
   "name": "python",
   "nbconvert_exporter": "python",
   "pygments_lexer": "ipython3",
   "version": "3.10.9"
  }
 },
 "nbformat": 4,
 "nbformat_minor": 5
}
