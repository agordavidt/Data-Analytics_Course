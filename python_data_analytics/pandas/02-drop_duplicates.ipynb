{
 "cells": [
  {
   "cell_type": "code",
   "execution_count": 1,
   "id": "f909e931",
   "metadata": {},
   "outputs": [],
   "source": [
    "import pandas as pd"
   ]
  },
  {
   "cell_type": "code",
   "execution_count": null,
   "id": "a47dcc87",
   "metadata": {},
   "outputs": [],
   "source": [
    "jam_data = pd.read_csv(\"jamData.csv\")\n",
    "print(\"number of participants:\", len(jam_data))"
   ]
  },
  {
   "cell_type": "code",
   "execution_count": null,
   "id": "2a227f97",
   "metadata": {},
   "outputs": [],
   "source": [
    "# get rid of the BOT data\n",
    "jam_data = jam_data.drop_duplicates(subset=['name / nickname (optional)'])\n",
    "print(\"number of participants:\", len(jam_data))"
   ]
  }
 ],
 "metadata": {
  "kernelspec": {
   "display_name": "Python 3 (ipykernel)",
   "language": "python",
   "name": "python3"
  },
  "language_info": {
   "codemirror_mode": {
    "name": "ipython",
    "version": 3
   },
   "file_extension": ".py",
   "mimetype": "text/x-python",
   "name": "python",
   "nbconvert_exporter": "python",
   "pygments_lexer": "ipython3",
   "version": "3.10.9"
  }
 },
 "nbformat": 4,
 "nbformat_minor": 5
}
