{
 "cells": [
  {
   "cell_type": "markdown",
   "id": "5532ed7a",
   "metadata": {},
   "source": [
    "## Loading data from an existing file"
   ]
  },
  {
   "cell_type": "code",
   "execution_count": 8,
   "id": "c56d812a",
   "metadata": {},
   "outputs": [],
   "source": [
    "import pandas as pd\n",
    "import sqlite3"
   ]
  },
  {
   "cell_type": "code",
   "execution_count": 4,
   "id": "c4915a0e",
   "metadata": {},
   "outputs": [
    {
     "name": "stdout",
     "output_type": "stream",
     "text": [
      "      Name  Weight  Height        bmi\n",
      "0   juliet      50    1.65  18.365473\n",
      "1  Leonard      60    1.73  20.047446\n",
      "2   sophia      58    1.66  21.048048\n",
      "3   Daniel      68    1.69  23.808690\n"
     ]
    }
   ],
   "source": [
    "data = pd.read_csv('bmi.csv')\n",
    "print(data)"
   ]
  },
  {
   "cell_type": "code",
   "execution_count": 7,
   "id": "f64f5dd9",
   "metadata": {},
   "outputs": [
    {
     "name": "stdout",
     "output_type": "stream",
     "text": [
      "          Team  Points  GD  Won  Lost  Draw\n",
      "0      Nigeria       7   2    2     0     1\n",
      "1    E. Guinea       7   6    2     0     1\n",
      "2  Ivory Coast       3  -3    1     2     0\n",
      "3    G. Bissau       0  -5    0     3     0\n"
     ]
    }
   ],
   "source": [
    "# loading the tsv file\n",
    "data = pd.read_csv(\"group_A.txt\", sep='\\t')\n",
    "print(data)"
   ]
  },
  {
   "cell_type": "markdown",
   "id": "c3743b5c",
   "metadata": {},
   "source": [
    "## Loading data from a database"
   ]
  },
  {
   "cell_type": "code",
   "execution_count": 17,
   "id": "786cee9a",
   "metadata": {},
   "outputs": [],
   "source": [
    "# connect to the database\n",
    "connection = sqlite3.connect(\"mock_staff.db\")"
   ]
  },
  {
   "cell_type": "code",
   "execution_count": 21,
   "id": "acbc5b21",
   "metadata": {},
   "outputs": [],
   "source": [
    "# mock_data = pd.read_sql(\"select * from staff\", connection)\n",
    "# print(data)"
   ]
  },
  {
   "cell_type": "code",
   "execution_count": 25,
   "id": "3c6e70b7",
   "metadata": {},
   "outputs": [],
   "source": [
    "forbes = pd.read_csv('forbes_2022.csv', sep=\",\")\n",
    "#print(forbes)"
   ]
  },
  {
   "cell_type": "code",
   "execution_count": 35,
   "id": "e9bbcf7e",
   "metadata": {},
   "outputs": [],
   "source": [
    "# to print the first 5 rows\n",
    "# print(forbes.head())\n",
    "# we can also specify the number of rows from the beginning\n",
    "# print(forbes.head(10))\n"
   ]
  },
  {
   "cell_type": "code",
   "execution_count": null,
   "id": "34307aca",
   "metadata": {},
   "outputs": [],
   "source": [
    "# To print the last 5 rows\n",
    "print(forbes.tail())"
   ]
  },
  {
   "cell_type": "code",
   "execution_count": 28,
   "id": "45bef634",
   "metadata": {},
   "outputs": [],
   "source": [
    "# filter our data entry\n",
    "filtered_row = forbes[forbes['category'] == 'Automotive']\n",
    "#print(filtered_row)"
   ]
  },
  {
   "cell_type": "code",
   "execution_count": 32,
   "id": "e51df41f",
   "metadata": {},
   "outputs": [
    {
     "name": "stdout",
     "output_type": "stream",
     "text": [
      "0               Automotive\n",
      "1               Technology\n",
      "2         Fashion & Retail\n",
      "3               Technology\n",
      "4    Finance & Investments\n",
      "Name: category, dtype: object\n"
     ]
    }
   ],
   "source": [
    "# to print specific rows\n",
    "print(forbes['category'].head())"
   ]
  },
  {
   "cell_type": "code",
   "execution_count": 34,
   "id": "d561641f",
   "metadata": {},
   "outputs": [],
   "source": [
    "# to replace every instance of\n",
    "replaced_category = forbes.replace('Automotive', 'Automobile')\n",
    "# print(replaced_category)"
   ]
  },
  {
   "cell_type": "code",
   "execution_count": null,
   "id": "05ff9724",
   "metadata": {},
   "outputs": [],
   "source": [
    "# remove some data // remove the about\n",
    "remove_column = forbes.drop(\"about\", axis=1)\n",
    "# print(remove_column)"
   ]
  },
  {
   "cell_type": "code",
   "execution_count": null,
   "id": "e3c11636",
   "metadata": {},
   "outputs": [],
   "source": [
    "# to remove more than one column\n",
    "remove_column = forbes.drop(['about', 'bio'], axis=1)\n",
    "# print(remove_column)"
   ]
  },
  {
   "cell_type": "code",
   "execution_count": null,
   "id": "d434314c",
   "metadata": {},
   "outputs": [],
   "source": [
    "# to get rid of rows // delete rows\n",
    "remove_row = forbes.iloc[1:4]\n",
    "# print(remove_row)"
   ]
  },
  {
   "cell_type": "code",
   "execution_count": 38,
   "id": "d20d0b11",
   "metadata": {},
   "outputs": [
    {
     "name": "stdout",
     "output_type": "stream",
     "text": [
      "          Team  Points  GD  Won  Lost  Draw\n",
      "0      Nigeria       7   2    2     0     1\n",
      "1    E. Guinea       7   6    2     0     1\n",
      "2  Ivory Coast       3  -3    1     2     0\n",
      "3    G. Bissau       0  -5    0     3     0\n",
      "4        Ghana       0  -5    0     2     1\n"
     ]
    },
    {
     "name": "stderr",
     "output_type": "stream",
     "text": [
      "C:\\Users\\user\\AppData\\Local\\Temp\\ipykernel_13644\\3053819857.py:3: FutureWarning: The frame.append method is deprecated and will be removed from pandas in a future version. Use pandas.concat instead.\n",
      "  new_data = data.append(row, ignore_index=True)\n"
     ]
    }
   ],
   "source": [
    "# add new rows to our database\n",
    "row = {\"Team\":\"Ghana\", \"Points\": 0, \"GD\": -5, \"Won\": 0, \"Lost\": 2, \"Draw\": 1}\n",
    "new_data = data.append(row, ignore_index=True)\n",
    "# print(new_data)"
   ]
  },
  {
   "cell_type": "code",
   "execution_count": null,
   "id": "9797f9a7",
   "metadata": {},
   "outputs": [],
   "source": []
  }
 ],
 "metadata": {
  "kernelspec": {
   "display_name": "Python 3 (ipykernel)",
   "language": "python",
   "name": "python3"
  },
  "language_info": {
   "codemirror_mode": {
    "name": "ipython",
    "version": 3
   },
   "file_extension": ".py",
   "mimetype": "text/x-python",
   "name": "python",
   "nbconvert_exporter": "python",
   "pygments_lexer": "ipython3",
   "version": "3.10.9"
  }
 },
 "nbformat": 4,
 "nbformat_minor": 5
}
