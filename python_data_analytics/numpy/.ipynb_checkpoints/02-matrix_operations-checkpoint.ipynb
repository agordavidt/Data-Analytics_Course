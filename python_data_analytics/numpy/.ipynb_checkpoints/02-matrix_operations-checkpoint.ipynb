{
 "cells": [
  {
   "cell_type": "code",
   "execution_count": 169,
   "id": "012f654c",
   "metadata": {},
   "outputs": [],
   "source": [
    "# import numpy (numeric python) module\n",
    "import numpy as np"
   ]
  },
  {
   "cell_type": "code",
   "execution_count": 173,
   "id": "586cf846",
   "metadata": {},
   "outputs": [],
   "source": [
    "# create matrices a and b\n",
    "a = np.array([[2,2,2],[2,2,2],[2,2,2]])\n",
    "b = np.array([[1,2,3],[4,5,6],[7,8,9]])\n"
   ]
  },
  {
   "cell_type": "markdown",
   "id": "9c57d0b5",
   "metadata": {},
   "source": [
    "## Simple Matrix Operations"
   ]
  },
  {
   "cell_type": "code",
   "execution_count": null,
   "id": "2dc00be3",
   "metadata": {},
   "outputs": [],
   "source": []
  },
  {
   "cell_type": "code",
   "execution_count": 174,
   "id": "ef4154fb",
   "metadata": {},
   "outputs": [
    {
     "name": "stdout",
     "output_type": "stream",
     "text": [
      "[[ 3  4  5]\n",
      " [ 6  7  8]\n",
      " [ 9 10 11]]\n"
     ]
    }
   ],
   "source": [
    "# operations on 2 matrices\n",
    "simple_ops = a + b\n",
    "print(simple_ops)"
   ]
  },
  {
   "cell_type": "code",
   "execution_count": 175,
   "id": "c0316705",
   "metadata": {},
   "outputs": [
    {
     "name": "stdout",
     "output_type": "stream",
     "text": [
      "[[-0.25  0.    0.25]\n",
      " [ 0.5   0.75  1.  ]\n",
      " [ 1.25  1.5   1.75]]\n"
     ]
    }
   ],
   "source": [
    "# we can also multiply, subtract and divide\n",
    "\n",
    "simple_ops = (a + b - 2*a)/4\n",
    "print(simple_ops)"
   ]
  },
  {
   "cell_type": "markdown",
   "id": "38318a7b",
   "metadata": {},
   "source": [
    "All basic arithmetic operations are applicable on python as well"
   ]
  },
  {
   "cell_type": "code",
   "execution_count": 176,
   "id": "9f79c72b",
   "metadata": {},
   "outputs": [
    {
     "name": "stdout",
     "output_type": "stream",
     "text": [
      "[[1 0 1]\n",
      " [0 1 0]\n",
      " [1 0 1]]\n"
     ]
    }
   ],
   "source": [
    "# modulo operation\n",
    "mudolo = b % a\n",
    "print(mudolo)"
   ]
  },
  {
   "cell_type": "code",
   "execution_count": 177,
   "id": "b73bb3b6",
   "metadata": {},
   "outputs": [
    {
     "name": "stdout",
     "output_type": "stream",
     "text": [
      "[[0.5 1.  1.5]\n",
      " [2.  2.5 3. ]\n",
      " [3.5 4.  4.5]] \n",
      "\n",
      "[[0 1 1]\n",
      " [2 2 3]\n",
      " [3 4 4]]\n"
     ]
    }
   ],
   "source": [
    "# floor_division\n",
    "floor_division = b // a\n",
    "print(b/a, \"\\n\")\n",
    "print(floor_division)"
   ]
  },
  {
   "cell_type": "code",
   "execution_count": 180,
   "id": "6741562e",
   "metadata": {},
   "outputs": [
    {
     "name": "stdout",
     "output_type": "stream",
     "text": [
      "[[0. 1. 1.]\n",
      " [2. 2. 3.]\n",
      " [3. 4. 4.]]\n"
     ]
    }
   ],
   "source": [
    "# we can also do the floor division using np method\n",
    "floor_division = np.floor(b/a)\n",
    "print(floor_division)"
   ]
  },
  {
   "cell_type": "markdown",
   "id": "cb0d604c",
   "metadata": {},
   "source": [
    "## Matrix Multiplication"
   ]
  },
  {
   "cell_type": "code",
   "execution_count": null,
   "id": "6e3cd08f",
   "metadata": {},
   "outputs": [],
   "source": []
  }
 ],
 "metadata": {
  "kernelspec": {
   "display_name": "Python 3 (ipykernel)",
   "language": "python",
   "name": "python3"
  },
  "language_info": {
   "codemirror_mode": {
    "name": "ipython",
    "version": 3
   },
   "file_extension": ".py",
   "mimetype": "text/x-python",
   "name": "python",
   "nbconvert_exporter": "python",
   "pygments_lexer": "ipython3",
   "version": "3.10.9"
  }
 },
 "nbformat": 4,
 "nbformat_minor": 5
}
