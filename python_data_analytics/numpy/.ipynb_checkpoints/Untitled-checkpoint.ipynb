{
 "cells": [
  {
   "cell_type": "markdown",
   "id": "093af4b9",
   "metadata": {},
   "source": [
    "## Numpy\n",
    "Numpy is a short fo number python. It is a popular python library that deals with numbers."
   ]
  },
  {
   "cell_type": "markdown",
   "id": "6044c52b",
   "metadata": {},
   "source": [
    "## Array\n",
    "Arrays are collection of items of the same data type.  It is different from lists (lists store different data types)."
   ]
  },
  {
   "cell_type": "code",
   "execution_count": 77,
   "id": "064b4a5b",
   "metadata": {},
   "outputs": [],
   "source": [
    "\n",
    " # install numpy\n",
    "#!pip install numpy\n",
    "\n"
   ]
  },
  {
   "cell_type": "code",
   "execution_count": 82,
   "id": "bfba7134",
   "metadata": {},
   "outputs": [],
   "source": [
    "# import numpy\n",
    "import numpy as np"
   ]
  },
  {
   "cell_type": "code",
   "execution_count": 85,
   "id": "2701e4a7",
   "metadata": {},
   "outputs": [],
   "source": [
    "# generate an n-deminesional array\n",
    "my_array = np.arange(8)"
   ]
  },
  {
   "cell_type": "code",
   "execution_count": 86,
   "id": "4421931b",
   "metadata": {},
   "outputs": [
    {
     "name": "stdout",
     "output_type": "stream",
     "text": [
      "[0 1 2 3 4 5 6 7]\n"
     ]
    }
   ],
   "source": [
    "print(my_array)"
   ]
  },
  {
   "cell_type": "code",
   "execution_count": 87,
   "id": "16353032",
   "metadata": {},
   "outputs": [
    {
     "name": "stdout",
     "output_type": "stream",
     "text": [
      "last value in the array is 7\n"
     ]
    }
   ],
   "source": [
    "\n",
    "print(\"last value in the array is\", my_array[-1])"
   ]
  },
  {
   "cell_type": "code",
   "execution_count": 91,
   "id": "8cb3bb74",
   "metadata": {},
   "outputs": [
    {
     "name": "stdout",
     "output_type": "stream",
     "text": [
      "[2 3 4 5 6 7]\n"
     ]
    }
   ],
   "source": [
    "# we can specify the first item in the array\n",
    "my_array = np.arange(2,8)\n",
    "print(my_array)"
   ]
  },
  {
   "cell_type": "code",
   "execution_count": 95,
   "id": "d254cba3",
   "metadata": {},
   "outputs": [
    {
     "name": "stdout",
     "output_type": "stream",
     "text": [
      "[1 3 5 7]\n"
     ]
    }
   ],
   "source": [
    "# we can count in steps\n",
    "my_array = np.arange(1,8,2)\n",
    "print(my_array)"
   ]
  },
  {
   "cell_type": "code",
   "execution_count": 96,
   "id": "13a38864",
   "metadata": {},
   "outputs": [
    {
     "name": "stdout",
     "output_type": "stream",
     "text": [
      "[2.  2.5 3.  3.5 4.  4.5 5.  5.5 6.  6.5 7.  7.5 8.  8.5 9.  9.5]\n"
     ]
    }
   ],
   "source": [
    "# floating points\n",
    "my_array = np.arange(2,10,0.5)\n",
    "print(my_array)"
   ]
  },
  {
   "cell_type": "code",
   "execution_count": 98,
   "id": "44b7aa02",
   "metadata": {},
   "outputs": [
    {
     "name": "stdout",
     "output_type": "stream",
     "text": [
      "[-5 -2  1  4  7]\n"
     ]
    }
   ],
   "source": [
    "# negative digits\n",
    "my_array = np.arange(-5,8,3)\n",
    "print(my_array)"
   ]
  },
  {
   "cell_type": "code",
   "execution_count": 99,
   "id": "633380a8",
   "metadata": {},
   "outputs": [
    {
     "name": "stdout",
     "output_type": "stream",
     "text": [
      "<class 'numpy.ndarray'>\n"
     ]
    }
   ],
   "source": [
    "# check the array data type\n",
    "print(type(my_array))\n"
   ]
  },
  {
   "cell_type": "markdown",
   "id": "1491cfe6",
   "metadata": {},
   "source": [
    "## Creating arrays from lists"
   ]
  },
  {
   "cell_type": "code",
   "execution_count": 107,
   "id": "242b4cbe",
   "metadata": {},
   "outputs": [],
   "source": [
    "square_list  = [4,9,16,25]\n",
    "#convert list to array\n",
    "square_array = np.array(square_list)"
   ]
  },
  {
   "cell_type": "code",
   "execution_count": 108,
   "id": "838777d2",
   "metadata": {},
   "outputs": [
    {
     "name": "stdout",
     "output_type": "stream",
     "text": [
      "[4, 9, 16, 25]\n",
      "[ 4  9 16 25]\n"
     ]
    }
   ],
   "source": [
    "print(square_list)\n",
    "print(square_array)"
   ]
  },
  {
   "cell_type": "code",
   "execution_count": 109,
   "id": "8e68f3e9",
   "metadata": {},
   "outputs": [
    {
     "name": "stdout",
     "output_type": "stream",
     "text": [
      "<class 'numpy.int32'>\n"
     ]
    }
   ],
   "source": [
    "print(type(square_array[0]))"
   ]
  },
  {
   "cell_type": "code",
   "execution_count": 113,
   "id": "944ad4d0",
   "metadata": {},
   "outputs": [],
   "source": [
    "# statically setting data type\n",
    "square_array = np.array(square_list, dtype=np.int8)"
   ]
  },
  {
   "cell_type": "code",
   "execution_count": 114,
   "id": "5585c7e7",
   "metadata": {},
   "outputs": [
    {
     "name": "stdout",
     "output_type": "stream",
     "text": [
      "<class 'numpy.int8'>\n"
     ]
    }
   ],
   "source": [
    "print(type(square_array[0]))"
   ]
  },
  {
   "cell_type": "code",
   "execution_count": 116,
   "id": "abbc51c6",
   "metadata": {},
   "outputs": [
    {
     "name": "stdout",
     "output_type": "stream",
     "text": [
      "[3 4 5]\n"
     ]
    }
   ],
   "source": [
    "from_list = np.array([3,4,5])\n",
    "print(from_list)"
   ]
  },
  {
   "cell_type": "code",
   "execution_count": null,
   "id": "2e39ede2",
   "metadata": {},
   "outputs": [],
   "source": []
  },
  {
   "cell_type": "markdown",
   "id": "427d35f4",
   "metadata": {},
   "source": [
    "## 2D Arrays\n",
    "Data with rows and columns\n"
   ]
  },
  {
   "cell_type": "code",
   "execution_count": 117,
   "id": "dcbf436b",
   "metadata": {},
   "outputs": [
    {
     "name": "stdout",
     "output_type": "stream",
     "text": [
      "[[1 2 3]\n",
      " [4 5 6]]\n"
     ]
    }
   ],
   "source": [
    "# Create 2D array from a list\n",
    "from_list = np.array([[1,2,3],[4,5,6]])\n",
    "print(from_list)"
   ]
  },
  {
   "cell_type": "code",
   "execution_count": 127,
   "id": "51a18592",
   "metadata": {},
   "outputs": [
    {
     "name": "stdout",
     "output_type": "stream",
     "text": [
      "[[0 2 4 6]\n",
      " [1 3 5 7]]\n"
     ]
    }
   ],
   "source": [
    "# using the numpy arange method\n",
    "array_2d = np.array((np.arange(0,8,2), np.arange(1,8,2)))\n",
    "print(array_2d)"
   ]
  },
  {
   "cell_type": "code",
   "execution_count": 128,
   "id": "fef5fd42",
   "metadata": {},
   "outputs": [
    {
     "name": "stdout",
     "output_type": "stream",
     "text": [
      "(2, 4)\n"
     ]
    }
   ],
   "source": [
    "# check the type of n-demensional array\n",
    "print(array_2d.shape)"
   ]
  },
  {
   "cell_type": "code",
   "execution_count": 121,
   "id": "eab6f70e",
   "metadata": {},
   "outputs": [
    {
     "name": "stdout",
     "output_type": "stream",
     "text": [
      "(5,)\n"
     ]
    }
   ],
   "source": [
    "print(my_array.shape)"
   ]
  },
  {
   "cell_type": "markdown",
   "id": "1403e139",
   "metadata": {},
   "source": [
    "## Reshape\n",
    "The reshape function allows us to flip between the number of rows and the number of columns.  It is not limited to the same dimensions."
   ]
  },
  {
   "cell_type": "code",
   "execution_count": 132,
   "id": "c9272ea0",
   "metadata": {},
   "outputs": [
    {
     "name": "stdout",
     "output_type": "stream",
     "text": [
      "[[0 2]\n",
      " [4 6]\n",
      " [1 3]\n",
      " [5 7]]\n"
     ]
    }
   ],
   "source": [
    "# reshape 2D-array\n",
    "array_2d = array_2d.reshape(4,2)\n",
    "print(array_2d)"
   ]
  },
  {
   "cell_type": "code",
   "execution_count": 130,
   "id": "067fb801",
   "metadata": {},
   "outputs": [
    {
     "name": "stdout",
     "output_type": "stream",
     "text": [
      "[[[0 2]\n",
      "  [4 6]]\n",
      "\n",
      " [[1 3]\n",
      "  [5 7]]]\n"
     ]
    }
   ],
   "source": [
    "# reshape 2d to 3D array\n",
    "array_2d = array_2d.reshape(2,2,2)\n",
    "# print reshaped array\n",
    "print(array_2d)"
   ]
  },
  {
   "cell_type": "code",
   "execution_count": 131,
   "id": "78b3dbec",
   "metadata": {},
   "outputs": [
    {
     "name": "stdout",
     "output_type": "stream",
     "text": [
      "(2, 2, 2)\n"
     ]
    }
   ],
   "source": [
    "print(array_2d.shape)"
   ]
  },
  {
   "cell_type": "code",
   "execution_count": 136,
   "id": "e6cca5ae",
   "metadata": {},
   "outputs": [
    {
     "name": "stdout",
     "output_type": "stream",
     "text": [
      "[0 2 4 6 1 3 5 7]\n"
     ]
    }
   ],
   "source": [
    "# reshare 1D array\n",
    "array_2d = array_2d.reshape(8)\n",
    "print(array_2d)"
   ]
  },
  {
   "cell_type": "markdown",
   "id": "f8781b49",
   "metadata": {},
   "source": [
    "## Empty Arrays\n",
    "Sometimes we are not sure which data to store in the array, we can start with an empty array."
   ]
  },
  {
   "cell_type": "code",
   "execution_count": 142,
   "id": "746b20f3",
   "metadata": {},
   "outputs": [],
   "source": [
    "# empty arrays\n",
    "empty_arrays = np.zeros((4,4))"
   ]
  },
  {
   "cell_type": "code",
   "execution_count": 140,
   "id": "643cb98d",
   "metadata": {},
   "outputs": [
    {
     "name": "stdout",
     "output_type": "stream",
     "text": [
      "[[0. 0. 0. 0.]\n",
      " [0. 0. 0. 0.]\n",
      " [0. 0. 0. 0.]\n",
      " [0. 0. 0. 0.]]\n"
     ]
    }
   ],
   "source": [
    "print(empty_arrays)"
   ]
  },
  {
   "cell_type": "code",
   "execution_count": 145,
   "id": "e7d45797",
   "metadata": {},
   "outputs": [
    {
     "name": "stdout",
     "output_type": "stream",
     "text": [
      "[[1. 1. 1. 1.]\n",
      " [1. 1. 1. 1.]\n",
      " [1. 1. 1. 1.]\n",
      " [1. 1. 1. 1.]]\n"
     ]
    }
   ],
   "source": [
    "empty_array = np.ones((4,4))\n",
    "print(empty_array)"
   ]
  },
  {
   "cell_type": "code",
   "execution_count": 155,
   "id": "42f68cc5",
   "metadata": {},
   "outputs": [
    {
     "name": "stdout",
     "output_type": "stream",
     "text": [
      "[[1. 1. 1. 1.]\n",
      " [1. 1. 1. 1.]\n",
      " [1. 1. 1. 1.]\n",
      " [1. 1. 1. 1.]]\n"
     ]
    }
   ],
   "source": [
    "# using empty\n",
    "empty_array = np.empty((4,4))\n",
    "print(empty_array)"
   ]
  },
  {
   "cell_type": "code",
   "execution_count": 158,
   "id": "0d706ff8",
   "metadata": {},
   "outputs": [
    {
     "name": "stdout",
     "output_type": "stream",
     "text": [
      "[[1. 0. 0.]\n",
      " [0. 1. 0.]\n",
      " [0. 0. 1.]]\n"
     ]
    }
   ],
   "source": [
    "# other types of array\n",
    "eye_array = np.eye(3)\n",
    "print(eye_array)"
   ]
  },
  {
   "cell_type": "code",
   "execution_count": 163,
   "id": "37d39ede",
   "metadata": {},
   "outputs": [
    {
     "name": "stdout",
     "output_type": "stream",
     "text": [
      "[[0. 1. 0.]\n",
      " [0. 0. 1.]\n",
      " [0. 0. 0.]]\n"
     ]
    }
   ],
   "source": [
    "eye_array = np.eye(3, k=1)\n",
    "print(eye_array)"
   ]
  },
  {
   "cell_type": "code",
   "execution_count": 164,
   "id": "db4bc140",
   "metadata": {},
   "outputs": [
    {
     "name": "stdout",
     "output_type": "stream",
     "text": [
      "[[3. 1. 3.]\n",
      " [3. 3. 1.]\n",
      " [3. 3. 3.]]\n"
     ]
    }
   ],
   "source": [
    "# filter\n",
    "eye_array[eye_array == 0] = 3\n",
    "print(eye_array)"
   ]
  },
  {
   "cell_type": "code",
   "execution_count": null,
   "id": "3e4a5f6e",
   "metadata": {},
   "outputs": [],
   "source": []
  }
 ],
 "metadata": {
  "kernelspec": {
   "display_name": "Python 3 (ipykernel)",
   "language": "python",
   "name": "python3"
  },
  "language_info": {
   "codemirror_mode": {
    "name": "ipython",
    "version": 3
   },
   "file_extension": ".py",
   "mimetype": "text/x-python",
   "name": "python",
   "nbconvert_exporter": "python",
   "pygments_lexer": "ipython3",
   "version": "3.10.9"
  }
 },
 "nbformat": 4,
 "nbformat_minor": 5
}
