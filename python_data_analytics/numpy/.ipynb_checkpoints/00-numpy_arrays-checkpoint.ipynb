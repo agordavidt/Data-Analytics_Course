{
 "cells": [
  {
   "cell_type": "markdown",
   "id": "66cbeccd",
   "metadata": {},
   "source": [
    "## Numpy \n",
    "A popular python library that deals with numbers\n",
    "\n",
    "## Array\n",
    "A collection of items of the same type. \n",
    "It is different from list! (Lists store different data types)."
   ]
  },
  {
   "cell_type": "markdown",
   "id": "1df3de95",
   "metadata": {},
   "source": [
    "In this lesson we learn how to create arrays, sort them, reshape and adjust theire values.\n",
    "We will also see how arrays are better than list especially when it comes to numbers."
   ]
  },
  {
   "cell_type": "code",
   "execution_count": 4,
   "id": "de16a1a7",
   "metadata": {},
   "outputs": [
    {
     "name": "stdout",
     "output_type": "stream",
     "text": [
      "Requirement already satisfied: numpy in c:\\users\\user\\anaconda3\\lib\\site-packages (1.23.5)\n"
     ]
    }
   ],
   "source": [
    "# install numpy\n",
    "!pip install numpy"
   ]
  },
  {
   "cell_type": "code",
   "execution_count": 1,
   "id": "c91fb0e3",
   "metadata": {},
   "outputs": [],
   "source": [
    "# import numpy\n",
    "import numpy as np"
   ]
  },
  {
   "cell_type": "code",
   "execution_count": 7,
   "id": "abd29661",
   "metadata": {},
   "outputs": [
    {
     "name": "stdout",
     "output_type": "stream",
     "text": [
      "[0 1 2 3 4 5 6 7]\n"
     ]
    }
   ],
   "source": [
    "# generate an N-Dimensional array\n",
    "my_array = np.arange(8)\n",
    "print(my_array)"
   ]
  },
  {
   "cell_type": "code",
   "execution_count": 8,
   "id": "03a4b6fc",
   "metadata": {},
   "outputs": [
    {
     "data": {
      "text/plain": [
       "numpy.ndarray"
      ]
     },
     "execution_count": 8,
     "metadata": {},
     "output_type": "execute_result"
    }
   ],
   "source": [
    "# check the datatype\n",
    "type(my_array)"
   ]
  },
  {
   "cell_type": "markdown",
   "id": "4e4af747",
   "metadata": {},
   "source": [
    "<p>The number 8 in the above example represents a stop value;</p>\n",
    "<p><em>np.arange(stop)</em></p>\n",
    "<p><em>first item: 0</em></p>\n",
    "<p><em>last item: stop-1</em></p>\n",
    "<p>By default we always start counting from 0, if we don't want to count from 0 then we specify the first item as below </p>"
   ]
  },
  {
   "cell_type": "code",
   "execution_count": 9,
   "id": "cce3430f",
   "metadata": {},
   "outputs": [],
   "source": [
    "my_array2 = np.arange(1,8)"
   ]
  },
  {
   "cell_type": "code",
   "execution_count": 10,
   "id": "e16424e8",
   "metadata": {},
   "outputs": [
    {
     "name": "stdout",
     "output_type": "stream",
     "text": [
      "[1 2 3 4 5 6 7]\n"
     ]
    }
   ],
   "source": [
    "print(my_array2)"
   ]
  },
  {
   "cell_type": "code",
   "execution_count": 13,
   "id": "5779b576",
   "metadata": {},
   "outputs": [
    {
     "name": "stdout",
     "output_type": "stream",
     "text": [
      "[1 3 5 7]\n"
     ]
    }
   ],
   "source": [
    "# count with steps\n",
    "my_array3 = np.arange(1, 8, 2)\n",
    "print(my_array3)"
   ]
  },
  {
   "cell_type": "code",
   "execution_count": 14,
   "id": "e2d7cdaa",
   "metadata": {},
   "outputs": [
    {
     "name": "stdout",
     "output_type": "stream",
     "text": [
      "[1.  1.5 2.  2.5 3.  3.5 4.  4.5 5.  5.5 6.  6.5 7.  7.5]\n"
     ]
    }
   ],
   "source": [
    "# we can also work with floating point numbers\n",
    "my_array3 = np.arange(1, 8, 0.5)\n",
    "print(my_array3)"
   ]
  },
  {
   "cell_type": "code",
   "execution_count": 15,
   "id": "b4aee767",
   "metadata": {},
   "outputs": [
    {
     "name": "stdout",
     "output_type": "stream",
     "text": [
      "[-1.  -0.5  0.   0.5  1.   1.5  2.   2.5  3.   3.5  4.   4.5  5.   5.5\n",
      "  6.   6.5  7.   7.5]\n"
     ]
    }
   ],
   "source": [
    "# negative digits\n",
    "my_array3 = np.arange(-1, 8, 0.5)\n",
    "print(my_array3)"
   ]
  },
  {
   "cell_type": "code",
   "execution_count": 16,
   "id": "7f9f19b8",
   "metadata": {
    "scrolled": true
   },
   "outputs": [
    {
     "name": "stdout",
     "output_type": "stream",
     "text": [
      "[1 2 3]\n"
     ]
    }
   ],
   "source": [
    "# array from lists\n",
    "from_list = np.array([1,2,3])\n",
    "print(from_list)\n"
   ]
  },
  {
   "cell_type": "markdown",
   "id": "adccbccb",
   "metadata": {},
   "source": [
    "The reason we store in array instead of list is memory efficiency"
   ]
  },
  {
   "cell_type": "code",
   "execution_count": 18,
   "id": "2a1a70b4",
   "metadata": {},
   "outputs": [
    {
     "name": "stdout",
     "output_type": "stream",
     "text": [
      "<class 'numpy.int32'>\n"
     ]
    }
   ],
   "source": [
    "print(type(from_list[0]))"
   ]
  },
  {
   "cell_type": "code",
   "execution_count": 19,
   "id": "5eb15f84",
   "metadata": {},
   "outputs": [
    {
     "name": "stdout",
     "output_type": "stream",
     "text": [
      "<class 'numpy.int8'>\n"
     ]
    }
   ],
   "source": [
    "# statically set data type\n",
    "from_list = np.array([1,2,3], dtype=np.int8)\n",
    "print(type(from_list[0]))"
   ]
  },
  {
   "cell_type": "markdown",
   "id": "1eb0f1b9",
   "metadata": {},
   "source": [
    "## 2D Arrays\n",
    "Data with rows and columns"
   ]
  },
  {
   "cell_type": "code",
   "execution_count": 21,
   "id": "85220296",
   "metadata": {},
   "outputs": [
    {
     "name": "stdout",
     "output_type": "stream",
     "text": [
      "[[1 2 3]\n",
      " [4 5 6]]\n"
     ]
    }
   ],
   "source": [
    "# 2D Arrays\n",
    "# array from lists\n",
    "from_list = np.array([[1,2,3], [4,5,6]])\n",
    "print(from_list)"
   ]
  },
  {
   "cell_type": "code",
   "execution_count": 27,
   "id": "995a5215",
   "metadata": {},
   "outputs": [
    {
     "name": "stdout",
     "output_type": "stream",
     "text": [
      "[[0 2 4 6]\n",
      " [1 3 5 7]]\n"
     ]
    }
   ],
   "source": [
    "# using the arange method\n",
    "array_2d = np.array((np.arange(0,8,2), np.arange(1,8,2)))\n",
    "print(array_2d)"
   ]
  },
  {
   "cell_type": "code",
   "execution_count": 28,
   "id": "59ac4bbb",
   "metadata": {},
   "outputs": [
    {
     "name": "stdout",
     "output_type": "stream",
     "text": [
      "(2, 4)\n"
     ]
    }
   ],
   "source": [
    "# check the type of n-dimensional array\n",
    "print(array_2d.shape)"
   ]
  },
  {
   "cell_type": "code",
   "execution_count": 29,
   "id": "3e79f531",
   "metadata": {},
   "outputs": [
    {
     "name": "stdout",
     "output_type": "stream",
     "text": [
      "1D shape:  (8,)\n",
      "2D shape: (2, 4)\n"
     ]
    }
   ],
   "source": [
    "print(\"1D shape: \", my_array.shape)\n",
    "print(\"2D shape:\", array_2d.shape)"
   ]
  },
  {
   "cell_type": "markdown",
   "id": "fbd9deed",
   "metadata": {},
   "source": [
    "## Reshape\n",
    "The reshape funciton allows us to flip between the number of rows and number of columns. It is not limited to the same dimensions."
   ]
  },
  {
   "cell_type": "code",
   "execution_count": 30,
   "id": "03003d5b",
   "metadata": {},
   "outputs": [
    {
     "name": "stdout",
     "output_type": "stream",
     "text": [
      "[[0 2]\n",
      " [4 6]\n",
      " [1 3]\n",
      " [5 7]]\n"
     ]
    }
   ],
   "source": [
    "array_2d = array_2d.reshape(4, 2)\n",
    "print(array_2d)"
   ]
  },
  {
   "cell_type": "code",
   "execution_count": 31,
   "id": "409f556e",
   "metadata": {},
   "outputs": [
    {
     "name": "stdout",
     "output_type": "stream",
     "text": [
      "[0 2 4 6 1 3 5 7]\n"
     ]
    }
   ],
   "source": [
    "# reshape to 1-dimensional shape\n",
    "array_2d = array_2d.reshape(8)\n",
    "print(array_2d)"
   ]
  },
  {
   "cell_type": "markdown",
   "id": "554ed308",
   "metadata": {},
   "source": [
    "## Empty Arrays\n",
    "sometimes we are not sure which data to store in the array so we start with an empty array."
   ]
  },
  {
   "cell_type": "code",
   "execution_count": 35,
   "id": "e2bf1011",
   "metadata": {},
   "outputs": [],
   "source": [
    "# empty arrays\n",
    "empty_array = np.zeros((2,2))\n"
   ]
  },
  {
   "cell_type": "code",
   "execution_count": 37,
   "id": "72f893cb",
   "metadata": {},
   "outputs": [],
   "source": [
    "empty_array = np.ones((2,2))"
   ]
  },
  {
   "cell_type": "code",
   "execution_count": 39,
   "id": "efa69d2d",
   "metadata": {},
   "outputs": [],
   "source": [
    "empty_array = np.empty((2,2))"
   ]
  },
  {
   "cell_type": "code",
   "execution_count": 41,
   "id": "9973a16a",
   "metadata": {},
   "outputs": [
    {
     "name": "stdout",
     "output_type": "stream",
     "text": [
      "[[1. 1.]\n",
      " [1. 1.]]\n"
     ]
    }
   ],
   "source": [
    "print(empty_array)"
   ]
  }
 ],
 "metadata": {
  "kernelspec": {
   "display_name": "Python 3 (ipykernel)",
   "language": "python",
   "name": "python3"
  },
  "language_info": {
   "codemirror_mode": {
    "name": "ipython",
    "version": 3
   },
   "file_extension": ".py",
   "mimetype": "text/x-python",
   "name": "python",
   "nbconvert_exporter": "python",
   "pygments_lexer": "ipython3",
   "version": "3.10.9"
  }
 },
 "nbformat": 4,
 "nbformat_minor": 5
}
