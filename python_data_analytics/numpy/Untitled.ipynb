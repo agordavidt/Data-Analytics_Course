{
 "cells": [
  {
   "cell_type": "markdown",
   "id": "2094031f",
   "metadata": {},
   "source": [
    "## Numpy\n",
    "Numpy is a short fo number python. It is a popular python library that deals with numbers."
   ]
  },
  {
   "cell_type": "markdown",
   "id": "38a2c1ca",
   "metadata": {},
   "source": [
    "## Array\n",
    "Arrays are collection of items of the same data type.  It is different from lists (lists store different data types)."
   ]
  },
  {
   "cell_type": "code",
   "execution_count": 77,
   "id": "f741b74d",
   "metadata": {},
   "outputs": [],
   "source": [
    "\n",
    " # install numpy\n",
    "#!pip install numpy\n",
    "\n"
   ]
  },
  {
   "cell_type": "code",
   "execution_count": 82,
   "id": "5bd6017d",
   "metadata": {},
   "outputs": [],
   "source": [
    "# import numpy\n",
    "import numpy as np"
   ]
  },
  {
   "cell_type": "code",
   "execution_count": 85,
   "id": "23480214",
   "metadata": {},
   "outputs": [],
   "source": [
    "# generate an n-deminesional array\n",
    "my_array = np.arange(8)"
   ]
  },
  {
   "cell_type": "code",
   "execution_count": 86,
   "id": "475c3a84",
   "metadata": {},
   "outputs": [
    {
     "name": "stdout",
     "output_type": "stream",
     "text": [
      "[0 1 2 3 4 5 6 7]\n"
     ]
    }
   ],
   "source": [
    "print(my_array)"
   ]
  },
  {
   "cell_type": "code",
   "execution_count": 87,
   "id": "4d56cef9",
   "metadata": {},
   "outputs": [
    {
     "name": "stdout",
     "output_type": "stream",
     "text": [
      "last value in the array is 7\n"
     ]
    }
   ],
   "source": [
    "\n",
    "print(\"last value in the array is\", my_array[-1])"
   ]
  },
  {
   "cell_type": "code",
   "execution_count": 91,
   "id": "c4b09e28",
   "metadata": {},
   "outputs": [
    {
     "name": "stdout",
     "output_type": "stream",
     "text": [
      "[2 3 4 5 6 7]\n"
     ]
    }
   ],
   "source": [
    "# we can specify the first item in the array\n",
    "my_array = np.arange(2,8)\n",
    "print(my_array)"
   ]
  },
  {
   "cell_type": "code",
   "execution_count": 95,
   "id": "13c77af2",
   "metadata": {},
   "outputs": [
    {
     "name": "stdout",
     "output_type": "stream",
     "text": [
      "[1 3 5 7]\n"
     ]
    }
   ],
   "source": [
    "# we can count in steps\n",
    "my_array = np.arange(1,8,2)\n",
    "print(my_array)"
   ]
  },
  {
   "cell_type": "code",
   "execution_count": 96,
   "id": "870e0061",
   "metadata": {},
   "outputs": [
    {
     "name": "stdout",
     "output_type": "stream",
     "text": [
      "[2.  2.5 3.  3.5 4.  4.5 5.  5.5 6.  6.5 7.  7.5 8.  8.5 9.  9.5]\n"
     ]
    }
   ],
   "source": [
    "# floating points\n",
    "my_array = np.arange(2,10,0.5)\n",
    "print(my_array)"
   ]
  },
  {
   "cell_type": "code",
   "execution_count": 98,
   "id": "ebc4be31",
   "metadata": {},
   "outputs": [
    {
     "name": "stdout",
     "output_type": "stream",
     "text": [
      "[-5 -2  1  4  7]\n"
     ]
    }
   ],
   "source": [
    "# negative digits\n",
    "my_array = np.arange(-5,8,3)\n",
    "print(my_array)"
   ]
  },
  {
   "cell_type": "code",
   "execution_count": 99,
   "id": "b80aec0d",
   "metadata": {},
   "outputs": [
    {
     "name": "stdout",
     "output_type": "stream",
     "text": [
      "<class 'numpy.ndarray'>\n"
     ]
    }
   ],
   "source": [
    "# check the array data type\n",
    "print(type(my_array))\n"
   ]
  },
  {
   "cell_type": "markdown",
   "id": "17101803",
   "metadata": {},
   "source": [
    "## Creating arrays from lists"
   ]
  },
  {
   "cell_type": "code",
   "execution_count": 107,
   "id": "4f95418c",
   "metadata": {},
   "outputs": [],
   "source": [
    "square_list  = [4,9,16,25]\n",
    "#convert list to array\n",
    "square_array = np.array(square_list)"
   ]
  },
  {
   "cell_type": "code",
   "execution_count": 108,
   "id": "c165e0a8",
   "metadata": {},
   "outputs": [
    {
     "name": "stdout",
     "output_type": "stream",
     "text": [
      "[4, 9, 16, 25]\n",
      "[ 4  9 16 25]\n"
     ]
    }
   ],
   "source": [
    "print(square_list)\n",
    "print(square_array)"
   ]
  },
  {
   "cell_type": "code",
   "execution_count": 109,
   "id": "8da1440d",
   "metadata": {},
   "outputs": [
    {
     "name": "stdout",
     "output_type": "stream",
     "text": [
      "<class 'numpy.int32'>\n"
     ]
    }
   ],
   "source": [
    "print(type(square_array[0]))"
   ]
  },
  {
   "cell_type": "code",
   "execution_count": 113,
   "id": "f720a0e6",
   "metadata": {},
   "outputs": [],
   "source": [
    "# statically setting data type\n",
    "square_array = np.array(square_list, dtype=np.int8)"
   ]
  },
  {
   "cell_type": "code",
   "execution_count": 114,
   "id": "08b99e2b",
   "metadata": {},
   "outputs": [
    {
     "name": "stdout",
     "output_type": "stream",
     "text": [
      "<class 'numpy.int8'>\n"
     ]
    }
   ],
   "source": [
    "print(type(square_array[0]))"
   ]
  },
  {
   "cell_type": "code",
   "execution_count": 116,
   "id": "93295fe0",
   "metadata": {},
   "outputs": [
    {
     "name": "stdout",
     "output_type": "stream",
     "text": [
      "[3 4 5]\n"
     ]
    }
   ],
   "source": [
    "from_list = np.array([3,4,5])\n",
    "print(from_list)"
   ]
  },
  {
   "cell_type": "code",
   "execution_count": null,
   "id": "984c0a13",
   "metadata": {},
   "outputs": [],
   "source": []
  },
  {
   "cell_type": "markdown",
   "id": "1f828654",
   "metadata": {},
   "source": [
    "## 2D Arrays\n",
    "Data with rows and columns\n"
   ]
  },
  {
   "cell_type": "code",
   "execution_count": 117,
   "id": "45aa755d",
   "metadata": {},
   "outputs": [
    {
     "name": "stdout",
     "output_type": "stream",
     "text": [
      "[[1 2 3]\n",
      " [4 5 6]]\n"
     ]
    }
   ],
   "source": [
    "# Create 2D array from a list\n",
    "from_list = np.array([[1,2,3],[4,5,6]])\n",
    "print(from_list)"
   ]
  },
  {
   "cell_type": "code",
   "execution_count": 127,
   "id": "d55699d5",
   "metadata": {},
   "outputs": [
    {
     "name": "stdout",
     "output_type": "stream",
     "text": [
      "[[0 2 4 6]\n",
      " [1 3 5 7]]\n"
     ]
    }
   ],
   "source": [
    "# using the numpy arange method\n",
    "array_2d = np.array((np.arange(0,8,2), np.arange(1,8,2)))\n",
    "print(array_2d)"
   ]
  },
  {
   "cell_type": "code",
   "execution_count": 128,
   "id": "61d1a808",
   "metadata": {},
   "outputs": [
    {
     "name": "stdout",
     "output_type": "stream",
     "text": [
      "(2, 4)\n"
     ]
    }
   ],
   "source": [
    "# check the type of n-demensional array\n",
    "print(array_2d.shape)"
   ]
  },
  {
   "cell_type": "code",
   "execution_count": 121,
   "id": "fc49d341",
   "metadata": {},
   "outputs": [
    {
     "name": "stdout",
     "output_type": "stream",
     "text": [
      "(5,)\n"
     ]
    }
   ],
   "source": [
    "print(my_array.shape)"
   ]
  },
  {
   "cell_type": "markdown",
   "id": "9a40f079",
   "metadata": {},
   "source": [
    "## Reshape\n",
    "The reshape function allows us to flip between the number of rows and the number of columns.  It is not limited to the same dimensions."
   ]
  },
  {
   "cell_type": "code",
   "execution_count": 132,
   "id": "109464aa",
   "metadata": {},
   "outputs": [
    {
     "name": "stdout",
     "output_type": "stream",
     "text": [
      "[[0 2]\n",
      " [4 6]\n",
      " [1 3]\n",
      " [5 7]]\n"
     ]
    }
   ],
   "source": [
    "# reshape 2D-array\n",
    "array_2d = array_2d.reshape(4,2)\n",
    "print(array_2d)"
   ]
  },
  {
   "cell_type": "code",
   "execution_count": 130,
   "id": "4b8131bb",
   "metadata": {},
   "outputs": [
    {
     "name": "stdout",
     "output_type": "stream",
     "text": [
      "[[[0 2]\n",
      "  [4 6]]\n",
      "\n",
      " [[1 3]\n",
      "  [5 7]]]\n"
     ]
    }
   ],
   "source": [
    "# reshape 2d to 3D array\n",
    "array_2d = array_2d.reshape(2,2,2)\n",
    "# print reshaped array\n",
    "print(array_2d)"
   ]
  },
  {
   "cell_type": "code",
   "execution_count": 131,
   "id": "812aaffb",
   "metadata": {},
   "outputs": [
    {
     "name": "stdout",
     "output_type": "stream",
     "text": [
      "(2, 2, 2)\n"
     ]
    }
   ],
   "source": [
    "print(array_2d.shape)"
   ]
  },
  {
   "cell_type": "code",
   "execution_count": 136,
   "id": "460e0ac2",
   "metadata": {},
   "outputs": [
    {
     "name": "stdout",
     "output_type": "stream",
     "text": [
      "[0 2 4 6 1 3 5 7]\n"
     ]
    }
   ],
   "source": [
    "# reshare 1D array\n",
    "array_2d = array_2d.reshape(8)\n",
    "print(array_2d)"
   ]
  },
  {
   "cell_type": "markdown",
   "id": "4dfc5a6b",
   "metadata": {},
   "source": [
    "## Empty Arrays\n",
    "Sometimes we are not sure which data to store in the array, we can start with an empty array."
   ]
  },
  {
   "cell_type": "code",
   "execution_count": 142,
   "id": "027b17af",
   "metadata": {},
   "outputs": [],
   "source": [
    "# empty arrays\n",
    "empty_arrays = np.zeros((4,4))"
   ]
  },
  {
   "cell_type": "code",
   "execution_count": 140,
   "id": "69977129",
   "metadata": {},
   "outputs": [
    {
     "name": "stdout",
     "output_type": "stream",
     "text": [
      "[[0. 0. 0. 0.]\n",
      " [0. 0. 0. 0.]\n",
      " [0. 0. 0. 0.]\n",
      " [0. 0. 0. 0.]]\n"
     ]
    }
   ],
   "source": [
    "print(empty_arrays)"
   ]
  },
  {
   "cell_type": "code",
   "execution_count": 145,
   "id": "a86832c2",
   "metadata": {},
   "outputs": [
    {
     "name": "stdout",
     "output_type": "stream",
     "text": [
      "[[1. 1. 1. 1.]\n",
      " [1. 1. 1. 1.]\n",
      " [1. 1. 1. 1.]\n",
      " [1. 1. 1. 1.]]\n"
     ]
    }
   ],
   "source": [
    "empty_array = np.ones((4,4))\n",
    "print(empty_array)"
   ]
  },
  {
   "cell_type": "code",
   "execution_count": 155,
   "id": "8dc508ce",
   "metadata": {},
   "outputs": [
    {
     "name": "stdout",
     "output_type": "stream",
     "text": [
      "[[1. 1. 1. 1.]\n",
      " [1. 1. 1. 1.]\n",
      " [1. 1. 1. 1.]\n",
      " [1. 1. 1. 1.]]\n"
     ]
    }
   ],
   "source": [
    "# using empty\n",
    "empty_array = np.empty((4,4))\n",
    "print(empty_array)"
   ]
  },
  {
   "cell_type": "code",
   "execution_count": 158,
   "id": "aae09493",
   "metadata": {},
   "outputs": [
    {
     "name": "stdout",
     "output_type": "stream",
     "text": [
      "[[1. 0. 0.]\n",
      " [0. 1. 0.]\n",
      " [0. 0. 1.]]\n"
     ]
    }
   ],
   "source": [
    "# other types of array\n",
    "eye_array = np.eye(3)\n",
    "print(eye_array)"
   ]
  },
  {
   "cell_type": "code",
   "execution_count": 163,
   "id": "5285e62a",
   "metadata": {},
   "outputs": [
    {
     "name": "stdout",
     "output_type": "stream",
     "text": [
      "[[0. 1. 0.]\n",
      " [0. 0. 1.]\n",
      " [0. 0. 0.]]\n"
     ]
    }
   ],
   "source": [
    "eye_array = np.eye(3, k=1)\n",
    "print(eye_array)"
   ]
  },
  {
   "cell_type": "code",
   "execution_count": 164,
   "id": "35eb5c1d",
   "metadata": {},
   "outputs": [
    {
     "name": "stdout",
     "output_type": "stream",
     "text": [
      "[[3. 1. 3.]\n",
      " [3. 3. 1.]\n",
      " [3. 3. 3.]]\n"
     ]
    }
   ],
   "source": [
    "# filter\n",
    "eye_array[eye_array == 0] = 3\n",
    "print(eye_array)"
   ]
  },
  {
   "cell_type": "code",
   "execution_count": 168,
   "id": "eddbee4f",
   "metadata": {},
   "outputs": [
    {
     "name": "stdout",
     "output_type": "stream",
     "text": [
      "[[4. 4. 4. 4.]\n",
      " [4. 4. 4. 4.]\n",
      " [4. 4. 4. 4.]\n",
      " [4. 4. 4. 1.]]\n"
     ]
    }
   ],
   "source": [
    "simple = np.eye(4, k=4)\n",
    "simple[simple == 0] = 4\n",
    "simple[3,3] = 1\n",
    "print(simple)"
   ]
  },
  {
   "cell_type": "code",
   "execution_count": null,
   "id": "beeb9227",
   "metadata": {},
   "outputs": [],
   "source": []
  }
 ],
 "metadata": {
  "kernelspec": {
   "display_name": "Python 3 (ipykernel)",
   "language": "python",
   "name": "python3"
  },
  "language_info": {
   "codemirror_mode": {
    "name": "ipython",
    "version": 3
   },
   "file_extension": ".py",
   "mimetype": "text/x-python",
   "name": "python",
   "nbconvert_exporter": "python",
   "pygments_lexer": "ipython3",
   "version": "3.10.9"
  }
 },
 "nbformat": 4,
 "nbformat_minor": 5
}
