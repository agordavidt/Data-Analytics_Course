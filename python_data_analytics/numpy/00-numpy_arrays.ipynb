{
 "cells": [
  {
   "cell_type": "markdown",
   "id": "665e1fc4",
   "metadata": {},
   "source": [
    "## Numpy \n",
    "A popular python library that deals with numbers\n",
    "\n",
    "## Array\n",
    "A collection of items of the same type. \n",
    "It is different from list! (Lists store different data types)."
   ]
  },
  {
   "cell_type": "markdown",
   "id": "82ffd79e",
   "metadata": {},
   "source": [
    "In this lesson we learn how to create arrays, sort them, reshape and adjust their values.\n",
    "We will also see how arrays are better than list especially when it comes to numbers."
   ]
  },
  {
   "cell_type": "code",
   "execution_count": 4,
   "id": "64b9cd82",
   "metadata": {},
   "outputs": [
    {
     "name": "stdout",
     "output_type": "stream",
     "text": [
      "Requirement already satisfied: numpy in c:\\users\\user\\anaconda3\\lib\\site-packages (1.23.5)\n"
     ]
    }
   ],
   "source": [
    "# install numpy\n",
    "!pip install numpy"
   ]
  },
  {
   "cell_type": "code",
   "execution_count": 1,
   "id": "58752dd6",
   "metadata": {},
   "outputs": [],
   "source": [
    "# import numpy\n",
    "import numpy as np"
   ]
  },
  {
   "cell_type": "code",
   "execution_count": 7,
   "id": "3bc2c9b3",
   "metadata": {},
   "outputs": [
    {
     "name": "stdout",
     "output_type": "stream",
     "text": [
      "[0 1 2 3 4 5 6 7]\n"
     ]
    }
   ],
   "source": [
    "# generate an N-Dimensional array\n",
    "my_array = np.arange(8)\n",
    "print(my_array)"
   ]
  },
  {
   "cell_type": "code",
   "execution_count": 8,
   "id": "6f846efc",
   "metadata": {},
   "outputs": [
    {
     "data": {
      "text/plain": [
       "numpy.ndarray"
      ]
     },
     "execution_count": 8,
     "metadata": {},
     "output_type": "execute_result"
    }
   ],
   "source": [
    "# check the datatype\n",
    "type(my_array)"
   ]
  },
  {
   "cell_type": "markdown",
   "id": "bd86b57d",
   "metadata": {},
   "source": [
    "<p>The number 8 in the above example represents a stop value;</p>\n",
    "<p><em>np.arange(stop)</em></p>\n",
    "<p><em>first item: 0</em></p>\n",
    "<p><em>last item: stop-1</em></p>\n",
    "<p>By default we always start counting from 0, if we don't want to count from 0 then we specify the first item as below </p>"
   ]
  },
  {
   "cell_type": "code",
   "execution_count": 9,
   "id": "b0104212",
   "metadata": {},
   "outputs": [],
   "source": [
    "my_array2 = np.arange(1,8)"
   ]
  },
  {
   "cell_type": "code",
   "execution_count": 10,
   "id": "97114f23",
   "metadata": {},
   "outputs": [
    {
     "name": "stdout",
     "output_type": "stream",
     "text": [
      "[1 2 3 4 5 6 7]\n"
     ]
    }
   ],
   "source": [
    "print(my_array2)"
   ]
  },
  {
   "cell_type": "code",
   "execution_count": 13,
   "id": "e3ad6188",
   "metadata": {},
   "outputs": [
    {
     "name": "stdout",
     "output_type": "stream",
     "text": [
      "[1 3 5 7]\n"
     ]
    }
   ],
   "source": [
    "# count with steps\n",
    "my_array3 = np.arange(1, 8, 2)\n",
    "print(my_array3)"
   ]
  },
  {
   "cell_type": "code",
   "execution_count": 14,
   "id": "777919a2",
   "metadata": {},
   "outputs": [
    {
     "name": "stdout",
     "output_type": "stream",
     "text": [
      "[1.  1.5 2.  2.5 3.  3.5 4.  4.5 5.  5.5 6.  6.5 7.  7.5]\n"
     ]
    }
   ],
   "source": [
    "# we can also work with floating point numbers\n",
    "my_array3 = np.arange(1, 8, 0.5)\n",
    "print(my_array3)"
   ]
  },
  {
   "cell_type": "code",
   "execution_count": 15,
   "id": "f257b02a",
   "metadata": {},
   "outputs": [
    {
     "name": "stdout",
     "output_type": "stream",
     "text": [
      "[-1.  -0.5  0.   0.5  1.   1.5  2.   2.5  3.   3.5  4.   4.5  5.   5.5\n",
      "  6.   6.5  7.   7.5]\n"
     ]
    }
   ],
   "source": [
    "# negative digits\n",
    "my_array3 = np.arange(-1, 8, 0.5)\n",
    "print(my_array3)"
   ]
  },
  {
   "cell_type": "code",
   "execution_count": 16,
   "id": "a57a4c81",
   "metadata": {
    "scrolled": true
   },
   "outputs": [
    {
     "name": "stdout",
     "output_type": "stream",
     "text": [
      "[1 2 3]\n"
     ]
    }
   ],
   "source": [
    "# array from lists\n",
    "from_list = np.array([1,2,3])\n",
    "print(from_list)\n"
   ]
  },
  {
   "cell_type": "markdown",
   "id": "71040b8c",
   "metadata": {},
   "source": [
    "The reason we store in array instead of list is memory efficiency"
   ]
  },
  {
   "cell_type": "code",
   "execution_count": 18,
   "id": "860163de",
   "metadata": {},
   "outputs": [
    {
     "name": "stdout",
     "output_type": "stream",
     "text": [
      "<class 'numpy.int32'>\n"
     ]
    }
   ],
   "source": [
    "print(type(from_list[0]))"
   ]
  },
  {
   "cell_type": "code",
   "execution_count": 19,
   "id": "8ad054ba",
   "metadata": {},
   "outputs": [
    {
     "name": "stdout",
     "output_type": "stream",
     "text": [
      "<class 'numpy.int8'>\n"
     ]
    }
   ],
   "source": [
    "# statically set data type\n",
    "from_list = np.array([1,2,3], dtype=np.int8)\n",
    "print(type(from_list[0]))"
   ]
  },
  {
   "cell_type": "markdown",
   "id": "d1e26d65",
   "metadata": {},
   "source": [
    "## 2D Arrays\n",
    "Data with rows and columns"
   ]
  },
  {
   "cell_type": "code",
   "execution_count": 21,
   "id": "51cbea2f",
   "metadata": {},
   "outputs": [
    {
     "name": "stdout",
     "output_type": "stream",
     "text": [
      "[[1 2 3]\n",
      " [4 5 6]]\n"
     ]
    }
   ],
   "source": [
    "# 2D Arrays\n",
    "# array from lists\n",
    "from_list = np.array([[1,2,3], [4,5,6]])\n",
    "print(from_list)"
   ]
  },
  {
   "cell_type": "code",
   "execution_count": 27,
   "id": "75a9ceef",
   "metadata": {},
   "outputs": [
    {
     "name": "stdout",
     "output_type": "stream",
     "text": [
      "[[0 2 4 6]\n",
      " [1 3 5 7]]\n"
     ]
    }
   ],
   "source": [
    "# using the arange method\n",
    "array_2d = np.array((np.arange(0,8,2), np.arange(1,8,2)))\n",
    "print(array_2d)"
   ]
  },
  {
   "cell_type": "code",
   "execution_count": 28,
   "id": "35d8258a",
   "metadata": {},
   "outputs": [
    {
     "name": "stdout",
     "output_type": "stream",
     "text": [
      "(2, 4)\n"
     ]
    }
   ],
   "source": [
    "# check the type of n-dimensional array\n",
    "print(array_2d.shape)"
   ]
  },
  {
   "cell_type": "code",
   "execution_count": 29,
   "id": "54d08d79",
   "metadata": {},
   "outputs": [
    {
     "name": "stdout",
     "output_type": "stream",
     "text": [
      "1D shape:  (8,)\n",
      "2D shape: (2, 4)\n"
     ]
    }
   ],
   "source": [
    "print(\"1D shape: \", my_array.shape)\n",
    "print(\"2D shape:\", array_2d.shape)"
   ]
  },
  {
   "cell_type": "markdown",
   "id": "01a9f7a6",
   "metadata": {},
   "source": [
    "## Reshape\n",
    "The reshape funciton allows us to flip between the number of rows and number of columns. It is not limited to the same dimensions."
   ]
  },
  {
   "cell_type": "code",
   "execution_count": 30,
   "id": "bc47d6f9",
   "metadata": {},
   "outputs": [
    {
     "name": "stdout",
     "output_type": "stream",
     "text": [
      "[[0 2]\n",
      " [4 6]\n",
      " [1 3]\n",
      " [5 7]]\n"
     ]
    }
   ],
   "source": [
    "array_2d = array_2d.reshape(4, 2)\n",
    "print(array_2d)"
   ]
  },
  {
   "cell_type": "code",
   "execution_count": 31,
   "id": "6e94c170",
   "metadata": {},
   "outputs": [
    {
     "name": "stdout",
     "output_type": "stream",
     "text": [
      "[0 2 4 6 1 3 5 7]\n"
     ]
    }
   ],
   "source": [
    "# reshape to 1-dimensional shape\n",
    "array_2d = array_2d.reshape(8)\n",
    "print(array_2d)"
   ]
  },
  {
   "cell_type": "markdown",
   "id": "b94056f7",
   "metadata": {},
   "source": [
    "## Empty Arrays\n",
    "sometimes we are not sure which data to store in the array so we start with an empty array."
   ]
  },
  {
   "cell_type": "code",
   "execution_count": 35,
   "id": "7b5307f8",
   "metadata": {},
   "outputs": [],
   "source": [
    "# empty arrays\n",
    "empty_array = np.zeros((2,2))\n"
   ]
  },
  {
   "cell_type": "code",
   "execution_count": 37,
   "id": "cdaf4b27",
   "metadata": {},
   "outputs": [],
   "source": [
    "empty_array = np.ones((2,2))"
   ]
  },
  {
   "cell_type": "code",
   "execution_count": 42,
   "id": "cbfdc832",
   "metadata": {},
   "outputs": [],
   "source": [
    "# empty returns random values\n",
    "empty_array = np.empty((2,2))"
   ]
  },
  {
   "cell_type": "code",
   "execution_count": 43,
   "id": "789606c2",
   "metadata": {},
   "outputs": [
    {
     "name": "stdout",
     "output_type": "stream",
     "text": [
      "[[1. 1.]\n",
      " [1. 1.]]\n"
     ]
    }
   ],
   "source": [
    "print(empty_array)"
   ]
  },
  {
   "cell_type": "code",
   "execution_count": 44,
   "id": "e8c20090",
   "metadata": {},
   "outputs": [],
   "source": [
    "# other types of array\n",
    "eye_array = np.eye(3)"
   ]
  },
  {
   "cell_type": "code",
   "execution_count": 46,
   "id": "96f9765a",
   "metadata": {},
   "outputs": [],
   "source": [
    "eye_array = np.eye(3, k=1)"
   ]
  },
  {
   "cell_type": "code",
   "execution_count": 48,
   "id": "c090f791",
   "metadata": {},
   "outputs": [],
   "source": [
    "eye_array = np.eye(3, k=-1)"
   ]
  },
  {
   "cell_type": "code",
   "execution_count": 49,
   "id": "b16c7223",
   "metadata": {},
   "outputs": [
    {
     "name": "stdout",
     "output_type": "stream",
     "text": [
      "[[0. 0. 0.]\n",
      " [1. 0. 0.]\n",
      " [0. 1. 0.]]\n"
     ]
    }
   ],
   "source": [
    "print(eye_array)"
   ]
  },
  {
   "cell_type": "code",
   "execution_count": 50,
   "id": "37544121",
   "metadata": {},
   "outputs": [],
   "source": [
    "# filter \n",
    "eye_array[eye_array == 0] = 2"
   ]
  },
  {
   "cell_type": "code",
   "execution_count": 51,
   "id": "bdfed600",
   "metadata": {},
   "outputs": [
    {
     "name": "stdout",
     "output_type": "stream",
     "text": [
      "[[2. 2. 2.]\n",
      " [1. 2. 2.]\n",
      " [2. 1. 2.]]\n"
     ]
    }
   ],
   "source": [
    "print(eye_array)"
   ]
  },
  {
   "cell_type": "code",
   "execution_count": 52,
   "id": "ab0f5c13",
   "metadata": {},
   "outputs": [],
   "source": [
    "# using other operators\n",
    "eye_array[eye_array < 2] = 9"
   ]
  },
  {
   "cell_type": "code",
   "execution_count": 53,
   "id": "04f3f4bd",
   "metadata": {},
   "outputs": [
    {
     "name": "stdout",
     "output_type": "stream",
     "text": [
      "[[2. 2. 2.]\n",
      " [9. 2. 2.]\n",
      " [2. 9. 2.]]\n"
     ]
    }
   ],
   "source": [
    "print(eye_array)"
   ]
  },
  {
   "cell_type": "code",
   "execution_count": 54,
   "id": "f31b179a",
   "metadata": {},
   "outputs": [],
   "source": [
    "# filter specific rows\n",
    "eye_array[0] = 3"
   ]
  },
  {
   "cell_type": "code",
   "execution_count": 55,
   "id": "8baf5e21",
   "metadata": {},
   "outputs": [
    {
     "name": "stdout",
     "output_type": "stream",
     "text": [
      "[[3. 3. 3.]\n",
      " [9. 2. 2.]\n",
      " [2. 9. 2.]]\n"
     ]
    }
   ],
   "source": [
    "print(eye_array)"
   ]
  },
  {
   "cell_type": "code",
   "execution_count": 57,
   "id": "6ad99340",
   "metadata": {},
   "outputs": [],
   "source": [
    "# select the first two rows\n",
    "eye_array[:2] = 4"
   ]
  },
  {
   "cell_type": "code",
   "execution_count": 58,
   "id": "1f3389a0",
   "metadata": {},
   "outputs": [
    {
     "name": "stdout",
     "output_type": "stream",
     "text": [
      "[[4. 4. 4.]\n",
      " [4. 4. 4.]\n",
      " [2. 9. 2.]]\n"
     ]
    }
   ],
   "source": [
    "print(eye_array)"
   ]
  },
  {
   "cell_type": "code",
   "execution_count": 65,
   "id": "d64a86d2",
   "metadata": {},
   "outputs": [],
   "source": [
    "# select the last two rows\n",
    "eye_array[:1] = 4"
   ]
  },
  {
   "cell_type": "code",
   "execution_count": 66,
   "id": "a477f1d2",
   "metadata": {},
   "outputs": [
    {
     "name": "stdout",
     "output_type": "stream",
     "text": [
      "[[4. 4. 4.]\n",
      " [5. 5. 5.]\n",
      " [5. 5. 5.]]\n"
     ]
    }
   ],
   "source": [
    "print(eye_array)"
   ]
  },
  {
   "cell_type": "code",
   "execution_count": 70,
   "id": "6cf663e5",
   "metadata": {},
   "outputs": [],
   "source": [
    "# Selecting columns\n",
    "eye_array[:, -1] = 6"
   ]
  },
  {
   "cell_type": "code",
   "execution_count": 71,
   "id": "84f1ed08",
   "metadata": {},
   "outputs": [
    {
     "name": "stdout",
     "output_type": "stream",
     "text": [
      "[[6. 4. 6.]\n",
      " [6. 5. 6.]\n",
      " [6. 5. 6.]]\n"
     ]
    }
   ],
   "source": [
    "print(eye_array)"
   ]
  },
  {
   "cell_type": "markdown",
   "id": "7b0d38f3",
   "metadata": {},
   "source": [
    "## Sorting arrays\n",
    "sorting organizes each row in a sequence from smallest to largest."
   ]
  },
  {
   "cell_type": "code",
   "execution_count": 81,
   "id": "991bf5d5",
   "metadata": {},
   "outputs": [
    {
     "name": "stdout",
     "output_type": "stream",
     "text": [
      "[[6. 4. 6.]\n",
      " [6. 5. 6.]\n",
      " [6. 5. 6.]]\n",
      "**************\n",
      "[[4. 6. 6.]\n",
      " [5. 6. 6.]\n",
      " [5. 6. 6.]]\n"
     ]
    }
   ],
   "source": [
    "# sort arrays\n",
    "sorted_array = np.sort(eye_array)\n",
    "\n",
    "print(eye_array)\n",
    "print('**************')\n",
    "print(sorted_array)"
   ]
  },
  {
   "cell_type": "code",
   "execution_count": 84,
   "id": "8ab654c0",
   "metadata": {},
   "outputs": [
    {
     "name": "stdout",
     "output_type": "stream",
     "text": [
      "[[6. 4. 6.]\n",
      " [6. 5. 6.]\n",
      " [6. 5. 6.]]\n"
     ]
    }
   ],
   "source": [
    "# sorting by columns (default axis is -1 for rows)\n",
    "sorted_array = np.sort(eye_array, axis=0)\n",
    "print(sorted_array)"
   ]
  },
  {
   "cell_type": "markdown",
   "id": "98b301f5",
   "metadata": {},
   "source": [
    "## copy of arrays"
   ]
  },
  {
   "cell_type": "code",
   "execution_count": 78,
   "id": "7724cfad",
   "metadata": {},
   "outputs": [],
   "source": [
    "# view method\n",
    "my_view = sorted_array.view()\n",
    "my_copy = sorted_array.copy()"
   ]
  },
  {
   "cell_type": "code",
   "execution_count": 79,
   "id": "bf9e76b4",
   "metadata": {},
   "outputs": [
    {
     "name": "stdout",
     "output_type": "stream",
     "text": [
      "[[4. 4. 4.]\n",
      " [4. 4. 4.]\n",
      " [4. 4. 4.]] \n",
      "\n",
      "[[4. 4. 4.]\n",
      " [4. 4. 4.]\n",
      " [4. 4. 4.]] \n",
      "\n"
     ]
    }
   ],
   "source": [
    "# view affects the original array but copy doesn't\n",
    "my_view[:] = 4\n",
    "print(my_view, \"\\n\")\n",
    "print(sorted_array, \"\\n\")"
   ]
  },
  {
   "cell_type": "markdown",
   "id": "7be31b2e",
   "metadata": {},
   "source": [
    "the view method not only modifies the copied array but it also modiefies the original array."
   ]
  },
  {
   "cell_type": "code",
   "execution_count": 80,
   "id": "cef1e5cf",
   "metadata": {},
   "outputs": [
    {
     "name": "stdout",
     "output_type": "stream",
     "text": [
      "[[2. 2. 2.]\n",
      " [2. 2. 2.]\n",
      " [2. 2. 2.]] \n",
      "\n",
      "[[4. 4. 4.]\n",
      " [4. 4. 4.]\n",
      " [4. 4. 4.]]\n"
     ]
    }
   ],
   "source": [
    "my_copy[:]  = 2\n",
    "print(my_copy, \"\\n\")\n",
    "print(sorted_array)"
   ]
  }
 ],
 "metadata": {
  "kernelspec": {
   "display_name": "Python 3 (ipykernel)",
   "language": "python",
   "name": "python3"
  },
  "language_info": {
   "codemirror_mode": {
    "name": "ipython",
    "version": 3
   },
   "file_extension": ".py",
   "mimetype": "text/x-python",
   "name": "python",
   "nbconvert_exporter": "python",
   "pygments_lexer": "ipython3",
   "version": "3.10.9"
  }
 },
 "nbformat": 4,
 "nbformat_minor": 5
}
