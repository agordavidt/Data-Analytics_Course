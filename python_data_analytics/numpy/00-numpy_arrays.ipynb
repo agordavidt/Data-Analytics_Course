{
 "cells": [
  {
   "cell_type": "markdown",
   "id": "18a98c06",
   "metadata": {},
   "source": [
    "## Numpy \n",
    "A popular python library that deals with numbers\n",
    "\n",
    "## Array\n",
    "A collection of items of the same type. \n",
    "It is different from list! (Lists store different data types)."
   ]
  },
  {
   "cell_type": "markdown",
   "id": "39aede92",
   "metadata": {},
   "source": [
    "In this lesson we learn how to create arrays, sort them, reshape and adjust theire values.\n",
    "We will also see how arrays are better than list especially when it comes to numbers."
   ]
  },
  {
   "cell_type": "code",
   "execution_count": 4,
   "id": "b6a56e63",
   "metadata": {},
   "outputs": [
    {
     "name": "stdout",
     "output_type": "stream",
     "text": [
      "Requirement already satisfied: numpy in c:\\users\\user\\anaconda3\\lib\\site-packages (1.23.5)\n"
     ]
    }
   ],
   "source": [
    "# install numpy\n",
    "!pip install numpy"
   ]
  },
  {
   "cell_type": "code",
   "execution_count": 1,
   "id": "9cdf03e0",
   "metadata": {},
   "outputs": [],
   "source": [
    "# import numpy\n",
    "import numpy as np"
   ]
  },
  {
   "cell_type": "code",
   "execution_count": 7,
   "id": "842a3f29",
   "metadata": {},
   "outputs": [
    {
     "name": "stdout",
     "output_type": "stream",
     "text": [
      "[0 1 2 3 4 5 6 7]\n"
     ]
    }
   ],
   "source": [
    "# generate an N-Dimensional array\n",
    "my_array = np.arange(8)\n",
    "print(my_array)"
   ]
  },
  {
   "cell_type": "code",
   "execution_count": 8,
   "id": "9f75a7ad",
   "metadata": {},
   "outputs": [
    {
     "data": {
      "text/plain": [
       "numpy.ndarray"
      ]
     },
     "execution_count": 8,
     "metadata": {},
     "output_type": "execute_result"
    }
   ],
   "source": [
    "# check the datatype\n",
    "type(my_array)"
   ]
  },
  {
   "cell_type": "markdown",
   "id": "486c90e5",
   "metadata": {},
   "source": [
    "<p>The number 8 in the above example represents a stop value;</p>\n",
    "<p><em>np.arange(stop)</em></p>\n",
    "<p><em>first item: 0</em></p>\n",
    "<p><em>last item: stop-1</em></p>\n",
    "<p>By default we always start counting from 0, if we don't want to count from 0 then we specify the first item as below </p>"
   ]
  },
  {
   "cell_type": "code",
   "execution_count": 9,
   "id": "98378545",
   "metadata": {},
   "outputs": [],
   "source": [
    "my_array2 = np.arange(1,8)"
   ]
  },
  {
   "cell_type": "code",
   "execution_count": 10,
   "id": "70b94da3",
   "metadata": {},
   "outputs": [
    {
     "name": "stdout",
     "output_type": "stream",
     "text": [
      "[1 2 3 4 5 6 7]\n"
     ]
    }
   ],
   "source": [
    "print(my_array2)"
   ]
  },
  {
   "cell_type": "code",
   "execution_count": 13,
   "id": "00b98397",
   "metadata": {},
   "outputs": [
    {
     "name": "stdout",
     "output_type": "stream",
     "text": [
      "[1 3 5 7]\n"
     ]
    }
   ],
   "source": [
    "# count with steps\n",
    "my_array3 = np.arange(1, 8, 2)\n",
    "print(my_array3)"
   ]
  },
  {
   "cell_type": "code",
   "execution_count": 14,
   "id": "9c515fd8",
   "metadata": {},
   "outputs": [
    {
     "name": "stdout",
     "output_type": "stream",
     "text": [
      "[1.  1.5 2.  2.5 3.  3.5 4.  4.5 5.  5.5 6.  6.5 7.  7.5]\n"
     ]
    }
   ],
   "source": [
    "# we can also work with floating point numbers\n",
    "my_array3 = np.arange(1, 8, 0.5)\n",
    "print(my_array3)"
   ]
  },
  {
   "cell_type": "code",
   "execution_count": 15,
   "id": "316aa35c",
   "metadata": {},
   "outputs": [
    {
     "name": "stdout",
     "output_type": "stream",
     "text": [
      "[-1.  -0.5  0.   0.5  1.   1.5  2.   2.5  3.   3.5  4.   4.5  5.   5.5\n",
      "  6.   6.5  7.   7.5]\n"
     ]
    }
   ],
   "source": [
    "# negative digits\n",
    "my_array3 = np.arange(-1, 8, 0.5)\n",
    "print(my_array3)"
   ]
  },
  {
   "cell_type": "code",
   "execution_count": 16,
   "id": "02e0a942",
   "metadata": {
    "scrolled": true
   },
   "outputs": [
    {
     "name": "stdout",
     "output_type": "stream",
     "text": [
      "[1 2 3]\n"
     ]
    }
   ],
   "source": [
    "# array from lists\n",
    "from_list = np.array([1,2,3])\n",
    "print(from_list)\n"
   ]
  },
  {
   "cell_type": "markdown",
   "id": "a6018708",
   "metadata": {},
   "source": [
    "The reason we store in array instead of list is memory efficiency"
   ]
  },
  {
   "cell_type": "code",
   "execution_count": 18,
   "id": "8152a93e",
   "metadata": {},
   "outputs": [
    {
     "name": "stdout",
     "output_type": "stream",
     "text": [
      "<class 'numpy.int32'>\n"
     ]
    }
   ],
   "source": [
    "print(type(from_list[0]))"
   ]
  },
  {
   "cell_type": "code",
   "execution_count": 19,
   "id": "ae6f7808",
   "metadata": {},
   "outputs": [
    {
     "name": "stdout",
     "output_type": "stream",
     "text": [
      "<class 'numpy.int8'>\n"
     ]
    }
   ],
   "source": [
    "# statically set data type\n",
    "from_list = np.array([1,2,3], dtype=np.int8)\n",
    "print(type(from_list[0]))"
   ]
  },
  {
   "cell_type": "markdown",
   "id": "a31aeee0",
   "metadata": {},
   "source": [
    "## 2D Arrays\n",
    "Data with rows and columns"
   ]
  },
  {
   "cell_type": "code",
   "execution_count": 21,
   "id": "14500d1c",
   "metadata": {},
   "outputs": [
    {
     "name": "stdout",
     "output_type": "stream",
     "text": [
      "[[1 2 3]\n",
      " [4 5 6]]\n"
     ]
    }
   ],
   "source": [
    "# 2D Arrays\n",
    "# array from lists\n",
    "from_list = np.array([[1,2,3], [4,5,6]])\n",
    "print(from_list)"
   ]
  },
  {
   "cell_type": "code",
   "execution_count": 27,
   "id": "4617994d",
   "metadata": {},
   "outputs": [
    {
     "name": "stdout",
     "output_type": "stream",
     "text": [
      "[[0 2 4 6]\n",
      " [1 3 5 7]]\n"
     ]
    }
   ],
   "source": [
    "# using the arange method\n",
    "array_2d = np.array((np.arange(0,8,2), np.arange(1,8,2)))\n",
    "print(array_2d)"
   ]
  },
  {
   "cell_type": "code",
   "execution_count": 28,
   "id": "ff5f0ff3",
   "metadata": {},
   "outputs": [
    {
     "name": "stdout",
     "output_type": "stream",
     "text": [
      "(2, 4)\n"
     ]
    }
   ],
   "source": [
    "# check the type of n-dimensional array\n",
    "print(array_2d.shape)"
   ]
  },
  {
   "cell_type": "code",
   "execution_count": 29,
   "id": "89763315",
   "metadata": {},
   "outputs": [
    {
     "name": "stdout",
     "output_type": "stream",
     "text": [
      "1D shape:  (8,)\n",
      "2D shape: (2, 4)\n"
     ]
    }
   ],
   "source": [
    "print(\"1D shape: \", my_array.shape)\n",
    "print(\"2D shape:\", array_2d.shape)"
   ]
  },
  {
   "cell_type": "markdown",
   "id": "3e4b7621",
   "metadata": {},
   "source": [
    "## Reshape\n",
    "The reshape funciton allows us to flip between the number of rows and number of columns. It is not limited to the same dimensions."
   ]
  },
  {
   "cell_type": "code",
   "execution_count": 30,
   "id": "5cf2f114",
   "metadata": {},
   "outputs": [
    {
     "name": "stdout",
     "output_type": "stream",
     "text": [
      "[[0 2]\n",
      " [4 6]\n",
      " [1 3]\n",
      " [5 7]]\n"
     ]
    }
   ],
   "source": [
    "array_2d = array_2d.reshape(4, 2)\n",
    "print(array_2d)"
   ]
  },
  {
   "cell_type": "code",
   "execution_count": 31,
   "id": "b5f71db4",
   "metadata": {},
   "outputs": [
    {
     "name": "stdout",
     "output_type": "stream",
     "text": [
      "[0 2 4 6 1 3 5 7]\n"
     ]
    }
   ],
   "source": [
    "# reshape to 1-dimensional shape\n",
    "array_2d = array_2d.reshape(8)\n",
    "print(array_2d)"
   ]
  },
  {
   "cell_type": "markdown",
   "id": "b89fd693",
   "metadata": {},
   "source": [
    "## Empty Arrays\n",
    "sometimes we are not sure which data to store in the array so we start with an empty array."
   ]
  },
  {
   "cell_type": "code",
   "execution_count": 35,
   "id": "f47fce98",
   "metadata": {},
   "outputs": [],
   "source": [
    "# empty arrays\n",
    "empty_array = np.zeros((2,2))\n"
   ]
  },
  {
   "cell_type": "code",
   "execution_count": 37,
   "id": "ebb117bd",
   "metadata": {},
   "outputs": [],
   "source": [
    "empty_array = np.ones((2,2))"
   ]
  },
  {
   "cell_type": "code",
   "execution_count": 42,
   "id": "b1f1dc9c",
   "metadata": {},
   "outputs": [],
   "source": [
    "empty_array = np.empty((2,2))"
   ]
  },
  {
   "cell_type": "code",
   "execution_count": 43,
   "id": "db6ce980",
   "metadata": {},
   "outputs": [
    {
     "name": "stdout",
     "output_type": "stream",
     "text": [
      "[[1. 1.]\n",
      " [1. 1.]]\n"
     ]
    }
   ],
   "source": [
    "print(empty_array)"
   ]
  }
 ],
 "metadata": {
  "kernelspec": {
   "display_name": "Python 3 (ipykernel)",
   "language": "python",
   "name": "python3"
  },
  "language_info": {
   "codemirror_mode": {
    "name": "ipython",
    "version": 3
   },
   "file_extension": ".py",
   "mimetype": "text/x-python",
   "name": "python",
   "nbconvert_exporter": "python",
   "pygments_lexer": "ipython3",
   "version": "3.10.9"
  }
 },
 "nbformat": 4,
 "nbformat_minor": 5
}
