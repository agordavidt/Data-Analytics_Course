{
 "cells": [
  {
   "cell_type": "markdown",
   "id": "b50d46c6",
   "metadata": {},
   "source": [
    "## Numpy Operations"
   ]
  },
  {
   "cell_type": "code",
   "execution_count": 3,
   "id": "5789f6f4",
   "metadata": {},
   "outputs": [],
   "source": [
    "import numpy as np\n"
   ]
  },
  {
   "cell_type": "code",
   "execution_count": 6,
   "id": "974bae41",
   "metadata": {},
   "outputs": [],
   "source": [
    "#Create an empty array\n",
    "arr1 = np.zeros((3,3))\n",
    "arr1[:] = 2"
   ]
  },
  {
   "cell_type": "code",
   "execution_count": 7,
   "id": "fbe99f76",
   "metadata": {},
   "outputs": [
    {
     "name": "stdout",
     "output_type": "stream",
     "text": [
      "[[2. 2. 2.]\n",
      " [2. 2. 2.]\n",
      " [2. 2. 2.]]\n"
     ]
    }
   ],
   "source": [
    "print(arr1)"
   ]
  },
  {
   "cell_type": "code",
   "execution_count": 10,
   "id": "2efd8147",
   "metadata": {},
   "outputs": [],
   "source": [
    "arr2 = np.arange(1,10).reshape((3,3))"
   ]
  },
  {
   "cell_type": "code",
   "execution_count": 11,
   "id": "37e9fe83",
   "metadata": {},
   "outputs": [
    {
     "name": "stdout",
     "output_type": "stream",
     "text": [
      "[[1 2 3]\n",
      " [4 5 6]\n",
      " [7 8 9]]\n"
     ]
    }
   ],
   "source": [
    "print(arr2)"
   ]
  },
  {
   "cell_type": "code",
   "execution_count": 16,
   "id": "a3cb6fee",
   "metadata": {},
   "outputs": [
    {
     "name": "stdout",
     "output_type": "stream",
     "text": [
      "<class 'numpy.ndarray'>\n",
      "int32\n",
      "<class 'numpy.ndarray'>\n",
      "int32\n"
     ]
    }
   ],
   "source": [
    "# check datypes of arrays\n",
    "print(type(arr1))\n",
    "print(arr1.dtype)\n",
    "print(type(arr2))\n",
    "print(arr2.dtype)"
   ]
  },
  {
   "cell_type": "code",
   "execution_count": 15,
   "id": "f641fb34",
   "metadata": {},
   "outputs": [],
   "source": [
    "#convert arr1 to int\n",
    "arr1 = np.zeros((3,3), dtype=np.int32)"
   ]
  },
  {
   "cell_type": "markdown",
   "id": "8c6bb920",
   "metadata": {},
   "source": [
    "# Fill method"
   ]
  },
  {
   "cell_type": "code",
   "execution_count": 18,
   "id": "84a4070d",
   "metadata": {},
   "outputs": [
    {
     "name": "stdout",
     "output_type": "stream",
     "text": [
      "[[8 8 8]\n",
      " [8 8 8]\n",
      " [8 8 8]]\n"
     ]
    }
   ],
   "source": [
    "arr1.fill(8)\n",
    "print(arr1)"
   ]
  },
  {
   "cell_type": "code",
   "execution_count": 19,
   "id": "65f1bd85",
   "metadata": {},
   "outputs": [
    {
     "name": "stdout",
     "output_type": "stream",
     "text": [
      "[[9 9 9]\n",
      " [9 9 9]\n",
      " [9 9 9]]\n"
     ]
    }
   ],
   "source": [
    "# asign method\n",
    "arr1 += 1\n",
    "print(arr1)"
   ]
  },
  {
   "cell_type": "code",
   "execution_count": null,
   "id": "9c1ad99e",
   "metadata": {},
   "outputs": [],
   "source": [
    "Note: Numpy is written in C."
   ]
  },
  {
   "cell_type": "code",
   "execution_count": 22,
   "id": "4f91b09d",
   "metadata": {},
   "outputs": [],
   "source": [
    "# arr1 /= 2"
   ]
  },
  {
   "cell_type": "markdown",
   "id": "5b336ee3",
   "metadata": {},
   "source": [
    "## Arithmetic methods"
   ]
  },
  {
   "cell_type": "code",
   "execution_count": 23,
   "id": "2dda0c82",
   "metadata": {},
   "outputs": [
    {
     "name": "stdout",
     "output_type": "stream",
     "text": [
      "81\n"
     ]
    }
   ],
   "source": [
    "# sum of the entire arrays\n",
    "array_sum = arr1.sum()\n",
    "print(array_sum)"
   ]
  },
  {
   "cell_type": "code",
   "execution_count": 24,
   "id": "2a6d348e",
   "metadata": {},
   "outputs": [
    {
     "name": "stdout",
     "output_type": "stream",
     "text": [
      "[27 27 27]\n"
     ]
    }
   ],
   "source": [
    "# we can also calculate each of the rows and columns separately\n",
    "# calculate sum of columns by specifying the axis 0\n",
    "array_sum = arr1.sum(0)\n",
    "print(array_sum)"
   ]
  },
  {
   "cell_type": "code",
   "execution_count": 30,
   "id": "8ceec0b4",
   "metadata": {},
   "outputs": [
    {
     "name": "stdout",
     "output_type": "stream",
     "text": [
      "Array:\n",
      " [[1 2 3]\n",
      " [4 5 6]\n",
      " [7 8 9]] \n",
      "\n",
      "Sum of array columns: [12 15 18]\n"
     ]
    }
   ],
   "source": [
    "# we can better see it with arr2\n",
    "array_sum = arr2.sum(0)\n",
    "print(\"Array:\\n\", arr2, \"\\n\")\n",
    "print(\"Sum of array columns:\", array_sum)"
   ]
  },
  {
   "cell_type": "code",
   "execution_count": 31,
   "id": "22c1efbd",
   "metadata": {},
   "outputs": [
    {
     "name": "stdout",
     "output_type": "stream",
     "text": [
      "Array:\n",
      " [[1 2 3]\n",
      " [4 5 6]\n",
      " [7 8 9]] \n",
      "\n",
      "Sum of array Rows: [ 6 15 24]\n"
     ]
    }
   ],
   "source": [
    "# Calculate the sum of rows by specifying the axis 1\n",
    "array_sum = arr2.sum(1)\n",
    "print(\"Array:\\n\", arr2, \"\\n\")\n",
    "print(\"Sum of array Rows:\", array_sum)"
   ]
  },
  {
   "cell_type": "code",
   "execution_count": 32,
   "id": "a3e54c03",
   "metadata": {},
   "outputs": [
    {
     "name": "stdout",
     "output_type": "stream",
     "text": [
      "[27 27 27]\n"
     ]
    }
   ],
   "source": [
    "# the axis can also be written as \n",
    "array_sum = arr1.sum(axis=1)\n",
    "print(array_sum)"
   ]
  },
  {
   "cell_type": "markdown",
   "id": "d997b18b",
   "metadata": {},
   "source": [
    "## Product\n",
    "product of the array is multiplying all the items by one another"
   ]
  },
  {
   "cell_type": "code",
   "execution_count": 37,
   "id": "b8feda76",
   "metadata": {},
   "outputs": [
    {
     "name": "stdout",
     "output_type": "stream",
     "text": [
      "362880\n"
     ]
    }
   ],
   "source": [
    "array_product = arr2.prod()\n",
    "print(array_product)"
   ]
  },
  {
   "cell_type": "code",
   "execution_count": 42,
   "id": "ce0cc687",
   "metadata": {},
   "outputs": [
    {
     "name": "stdout",
     "output_type": "stream",
     "text": [
      "Averae of the array:  5.0\n"
     ]
    }
   ],
   "source": [
    "# average of the array\n",
    "array_average = arr2.mean()\n",
    "print(\"Averae of the array: \", array_average)"
   ]
  },
  {
   "cell_type": "code",
   "execution_count": 44,
   "id": "fc656a08",
   "metadata": {},
   "outputs": [
    {
     "name": "stdout",
     "output_type": "stream",
     "text": [
      "Maximun array value:  9 \n",
      "Minimum array value:  1\n"
     ]
    }
   ],
   "source": [
    "# minimum and maximun values of an array\n",
    "array_max, array_min = b.max(), b.min()\n",
    "print(\"Maximun array value: \", array_max,\"\\nMinimum array value: \", array_min)"
   ]
  },
  {
   "cell_type": "code",
   "execution_count": 45,
   "id": "a6794b1e",
   "metadata": {},
   "outputs": [
    {
     "name": "stdout",
     "output_type": "stream",
     "text": [
      "Array index with maximum value:  9 \n",
      "Array index with minimum value:  1\n"
     ]
    }
   ],
   "source": [
    "# in some cases we want to get the index of the minimun and maximum values\n",
    "array_max_idx, array_min_idx = b.argmax(), b.argmin()\n",
    "print(\"Array index with maximum value: \", array_max,\"\\nArray index with minimum value: \", array_min)"
   ]
  },
  {
   "cell_type": "code",
   "execution_count": 46,
   "id": "40e24296",
   "metadata": {},
   "outputs": [
    {
     "name": "stdout",
     "output_type": "stream",
     "text": [
      "8\n"
     ]
    }
   ],
   "source": [
    "# the maximun index - minum index is represented by\n",
    "peak_to_peak = b.ptp()\n",
    "print(peak_to_peak)"
   ]
  },
  {
   "cell_type": "markdown",
   "id": "ee9b7ffa",
   "metadata": {},
   "source": [
    "## Faltten arrays\n",
    "Instead of having it in rows and columns, we want to have a linear data."
   ]
  },
  {
   "cell_type": "code",
   "execution_count": 53,
   "id": "60460838",
   "metadata": {},
   "outputs": [
    {
     "name": "stdout",
     "output_type": "stream",
     "text": [
      "[[1 2 3]\n",
      " [4 5 6]\n",
      " [7 8 9]] \n",
      "\n",
      "[1 2 3 4 5 6 7 8 9]\n"
     ]
    }
   ],
   "source": [
    "# using reshape method\n",
    "array_flat = arr2.reshape(arr2.size)\n",
    "print(arr2, \"\\n\")\n",
    "print(array_flat)\n"
   ]
  },
  {
   "cell_type": "code",
   "execution_count": 55,
   "id": "46bf535a",
   "metadata": {},
   "outputs": [
    {
     "name": "stdout",
     "output_type": "stream",
     "text": [
      "[1 2 3 4 5 6 7 8 9]\n"
     ]
    }
   ],
   "source": [
    "# we can also use the flatten() method, for which we don't need to pass anything\n",
    "array_flat = arr2.flatten()\n",
    "print(array_flat)"
   ]
  },
  {
   "cell_type": "code",
   "execution_count": 56,
   "id": "b32f7f57",
   "metadata": {},
   "outputs": [
    {
     "name": "stdout",
     "output_type": "stream",
     "text": [
      "[1 2 3 4 5 6 7 8 9]\n"
     ]
    }
   ],
   "source": [
    "# there is also the ravel() method\n",
    "array_flat = arr2.ravel()\n",
    "print(array_flat)"
   ]
  },
  {
   "cell_type": "markdown",
   "id": "78adf49c",
   "metadata": {},
   "source": [
    "The <code>flatten()</code> method creates a copy of the original array while the <code>rave()</code> method creates a view of the original array. The view applies changes on the original array."
   ]
  },
  {
   "cell_type": "markdown",
   "id": "d84b7f1b",
   "metadata": {},
   "source": [
    "## Repeat"
   ]
  },
  {
   "cell_type": "code",
   "execution_count": 57,
   "id": "dd7861ee",
   "metadata": {},
   "outputs": [
    {
     "name": "stdout",
     "output_type": "stream",
     "text": [
      "[255 255 255]\n"
     ]
    }
   ],
   "source": [
    "# repeat vlues/arrays\n",
    "array_repeat = np.repeat(255, 3)\n",
    "print(array_repeat)"
   ]
  },
  {
   "cell_type": "code",
   "execution_count": 59,
   "id": "b6eff8a6",
   "metadata": {},
   "outputs": [
    {
     "name": "stdout",
     "output_type": "stream",
     "text": [
      "[1 1 1 2 2 2 3 3 3 4 4 4 5 5 5 6 6 6 7 7 7 8 8 8 9 9 9]\n"
     ]
    }
   ],
   "source": [
    "# we can use the repeat method to repeat entire arrays\n",
    "array_repeat = np.repeat(arr2, 3)\n",
    "print(array_repeat)"
   ]
  },
  {
   "cell_type": "code",
   "execution_count": 60,
   "id": "287658b8",
   "metadata": {},
   "outputs": [
    {
     "name": "stdout",
     "output_type": "stream",
     "text": [
      "[[1 1 1 2 2 2 3 3 3]\n",
      " [4 4 4 5 5 5 6 6 6]\n",
      " [7 7 7 8 8 8 9 9 9]]\n"
     ]
    }
   ],
   "source": [
    "# we can use axis to specify, if want to store in same rows\n",
    "array_repeat = np.repeat(arr2, 3, axis=1)\n",
    "print(array_repeat)"
   ]
  },
  {
   "cell_type": "code",
   "execution_count": 61,
   "id": "d44b2369",
   "metadata": {},
   "outputs": [
    {
     "name": "stdout",
     "output_type": "stream",
     "text": [
      "[[1 2 3]\n",
      " [1 2 3]\n",
      " [1 2 3]\n",
      " [4 5 6]\n",
      " [4 5 6]\n",
      " [4 5 6]\n",
      " [7 8 9]\n",
      " [7 8 9]\n",
      " [7 8 9]]\n"
     ]
    }
   ],
   "source": [
    "# or same columns\n",
    "array_repeat = np.repeat(arr2, 3, axis=0)\n",
    "print(array_repeat)"
   ]
  },
  {
   "cell_type": "code",
   "execution_count": 62,
   "id": "9000e3a6",
   "metadata": {},
   "outputs": [
    {
     "name": "stdout",
     "output_type": "stream",
     "text": [
      "[[1 2 3]\n",
      " [4 5 6]\n",
      " [7 8 9]]\n"
     ]
    }
   ],
   "source": [
    "# to make the exact opposite\n",
    "array_unique = np.unique(array_repeat, axis=0)\n",
    "print(array_unique)"
   ]
  },
  {
   "cell_type": "code",
   "execution_count": 63,
   "id": "8604b824",
   "metadata": {},
   "outputs": [
    {
     "name": "stdout",
     "output_type": "stream",
     "text": [
      "[1 5 9]\n"
     ]
    }
   ],
   "source": [
    "# To fetch the diagonal of an array\n",
    "array_diag = np.diagonal(arr2)\n",
    "print(array_diag)"
   ]
  },
  {
   "cell_type": "markdown",
   "id": "a9127530",
   "metadata": {},
   "source": [
    "## Conversion and Storage"
   ]
  },
  {
   "cell_type": "code",
   "execution_count": 65,
   "id": "500e9aa1",
   "metadata": {},
   "outputs": [
    {
     "name": "stdout",
     "output_type": "stream",
     "text": [
      "<class 'list'>\n",
      "[[1, 2, 3], [4, 5, 6], [7, 8, 9]]\n"
     ]
    }
   ],
   "source": [
    "# conver array into lists\n",
    "my_list = arr2.tolist()\n",
    "print(type(my_list))\n",
    "print(my_list)"
   ]
  },
  {
   "cell_type": "code",
   "execution_count": null,
   "id": "6967460b",
   "metadata": {},
   "outputs": [],
   "source": [
    "#store array into a file\n",
    "arr2.tofile(\"my_array.txt\", sep=\",\")\n",
    "# sep stands for seperator\n",
    "\n",
    "arr2."
   ]
  }
 ],
 "metadata": {
  "kernelspec": {
   "display_name": "Python 3 (ipykernel)",
   "language": "python",
   "name": "python3"
  },
  "language_info": {
   "codemirror_mode": {
    "name": "ipython",
    "version": 3
   },
   "file_extension": ".py",
   "mimetype": "text/x-python",
   "name": "python",
   "nbconvert_exporter": "python",
   "pygments_lexer": "ipython3",
   "version": "3.10.9"
  }
 },
 "nbformat": 4,
 "nbformat_minor": 5
}
