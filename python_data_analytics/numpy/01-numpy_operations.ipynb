{
 "cells": [
  {
   "cell_type": "markdown",
   "id": "3358f530",
   "metadata": {},
   "source": [
    "## Numpy Operations"
   ]
  },
  {
   "cell_type": "code",
   "execution_count": 3,
   "id": "603222f6",
   "metadata": {},
   "outputs": [],
   "source": [
    "import numpy as np\n"
   ]
  },
  {
   "cell_type": "code",
   "execution_count": 6,
   "id": "b1a77e80",
   "metadata": {},
   "outputs": [],
   "source": [
    "#Create an empty array\n",
    "arr1 = np.zeros((3,3))\n",
    "arr1[:] = 2"
   ]
  },
  {
   "cell_type": "code",
   "execution_count": 7,
   "id": "cb6fcf88",
   "metadata": {},
   "outputs": [
    {
     "name": "stdout",
     "output_type": "stream",
     "text": [
      "[[2. 2. 2.]\n",
      " [2. 2. 2.]\n",
      " [2. 2. 2.]]\n"
     ]
    }
   ],
   "source": [
    "print(arr1)"
   ]
  },
  {
   "cell_type": "code",
   "execution_count": 10,
   "id": "e22d18ce",
   "metadata": {},
   "outputs": [],
   "source": [
    "arr2 = np.arange(1,10).reshape((3,3))"
   ]
  },
  {
   "cell_type": "code",
   "execution_count": 11,
   "id": "1be8b258",
   "metadata": {},
   "outputs": [
    {
     "name": "stdout",
     "output_type": "stream",
     "text": [
      "[[1 2 3]\n",
      " [4 5 6]\n",
      " [7 8 9]]\n"
     ]
    }
   ],
   "source": [
    "print(arr2)"
   ]
  },
  {
   "cell_type": "code",
   "execution_count": 16,
   "id": "68059d06",
   "metadata": {},
   "outputs": [
    {
     "name": "stdout",
     "output_type": "stream",
     "text": [
      "<class 'numpy.ndarray'>\n",
      "int32\n",
      "<class 'numpy.ndarray'>\n",
      "int32\n"
     ]
    }
   ],
   "source": [
    "# check datypes of arrays\n",
    "print(type(arr1))\n",
    "print(arr1.dtype)\n",
    "print(type(arr2))\n",
    "print(arr2.dtype)"
   ]
  },
  {
   "cell_type": "code",
   "execution_count": 15,
   "id": "79d79381",
   "metadata": {},
   "outputs": [],
   "source": [
    "#convert arr1 to int\n",
    "arr1 = np.zeros((3,3), dtype=np.int32)"
   ]
  },
  {
   "cell_type": "markdown",
   "id": "ee726752",
   "metadata": {},
   "source": [
    "# Fill method"
   ]
  },
  {
   "cell_type": "code",
   "execution_count": 18,
   "id": "4b0b2c61",
   "metadata": {},
   "outputs": [
    {
     "name": "stdout",
     "output_type": "stream",
     "text": [
      "[[8 8 8]\n",
      " [8 8 8]\n",
      " [8 8 8]]\n"
     ]
    }
   ],
   "source": [
    "arr1.fill(8)\n",
    "print(arr1)"
   ]
  },
  {
   "cell_type": "code",
   "execution_count": 19,
   "id": "03886120",
   "metadata": {},
   "outputs": [
    {
     "name": "stdout",
     "output_type": "stream",
     "text": [
      "[[9 9 9]\n",
      " [9 9 9]\n",
      " [9 9 9]]\n"
     ]
    }
   ],
   "source": [
    "# asign method\n",
    "arr1 += 1\n",
    "print(arr1)"
   ]
  },
  {
   "cell_type": "code",
   "execution_count": null,
   "id": "964a921a",
   "metadata": {},
   "outputs": [],
   "source": [
    "Note: Numpy is written in C."
   ]
  },
  {
   "cell_type": "code",
   "execution_count": 22,
   "id": "013751d4",
   "metadata": {},
   "outputs": [],
   "source": [
    "# arr1 /= 2"
   ]
  },
  {
   "cell_type": "markdown",
   "id": "3dc295fc",
   "metadata": {},
   "source": [
    "## Arithmetic methods"
   ]
  },
  {
   "cell_type": "code",
   "execution_count": 23,
   "id": "53d22b2f",
   "metadata": {},
   "outputs": [
    {
     "name": "stdout",
     "output_type": "stream",
     "text": [
      "81\n"
     ]
    }
   ],
   "source": [
    "# sum of the entire arrays\n",
    "array_sum = arr1.sum()\n",
    "print(array_sum)"
   ]
  },
  {
   "cell_type": "code",
   "execution_count": 24,
   "id": "d2221c98",
   "metadata": {},
   "outputs": [
    {
     "name": "stdout",
     "output_type": "stream",
     "text": [
      "[27 27 27]\n"
     ]
    }
   ],
   "source": [
    "# we can also calculate each of the rows and columns separately\n",
    "# calculate sum of columns by specifying the axis 0\n",
    "array_sum = arr1.sum(0)\n",
    "print(array_sum)"
   ]
  },
  {
   "cell_type": "code",
   "execution_count": 30,
   "id": "0bf22286",
   "metadata": {},
   "outputs": [
    {
     "name": "stdout",
     "output_type": "stream",
     "text": [
      "Array:\n",
      " [[1 2 3]\n",
      " [4 5 6]\n",
      " [7 8 9]] \n",
      "\n",
      "Sum of array columns: [12 15 18]\n"
     ]
    }
   ],
   "source": [
    "# we can better see it with arr2\n",
    "array_sum = arr2.sum(0)\n",
    "print(\"Array:\\n\", arr2, \"\\n\")\n",
    "print(\"Sum of array columns:\", array_sum)"
   ]
  },
  {
   "cell_type": "code",
   "execution_count": 31,
   "id": "8d915f6f",
   "metadata": {},
   "outputs": [
    {
     "name": "stdout",
     "output_type": "stream",
     "text": [
      "Array:\n",
      " [[1 2 3]\n",
      " [4 5 6]\n",
      " [7 8 9]] \n",
      "\n",
      "Sum of array Rows: [ 6 15 24]\n"
     ]
    }
   ],
   "source": [
    "# Calculate the sum of rows by specifying the axis 1\n",
    "array_sum = arr2.sum(1)\n",
    "print(\"Array:\\n\", arr2, \"\\n\")\n",
    "print(\"Sum of array Rows:\", array_sum)"
   ]
  },
  {
   "cell_type": "code",
   "execution_count": 32,
   "id": "ced35b19",
   "metadata": {},
   "outputs": [
    {
     "name": "stdout",
     "output_type": "stream",
     "text": [
      "[27 27 27]\n"
     ]
    }
   ],
   "source": [
    "# the axis can also be written as \n",
    "array_sum = arr1.sum(axis=1)\n",
    "print(array_sum)"
   ]
  },
  {
   "cell_type": "markdown",
   "id": "e28018b9",
   "metadata": {},
   "source": [
    "## Product\n",
    "product of the array is multiplying all the items by one another"
   ]
  },
  {
   "cell_type": "code",
   "execution_count": 37,
   "id": "3a94558c",
   "metadata": {},
   "outputs": [
    {
     "name": "stdout",
     "output_type": "stream",
     "text": [
      "362880\n"
     ]
    }
   ],
   "source": [
    "array_product = arr2.prod()\n",
    "print(array_product)"
   ]
  },
  {
   "cell_type": "code",
   "execution_count": 42,
   "id": "344c8bf9",
   "metadata": {},
   "outputs": [
    {
     "name": "stdout",
     "output_type": "stream",
     "text": [
      "Averae of the array:  5.0\n"
     ]
    }
   ],
   "source": [
    "# average of the array\n",
    "array_average = arr2.mean()\n",
    "print(\"Averae of the array: \", array_average)"
   ]
  },
  {
   "cell_type": "code",
   "execution_count": 44,
   "id": "1df4c4db",
   "metadata": {},
   "outputs": [
    {
     "name": "stdout",
     "output_type": "stream",
     "text": [
      "Maximun array value:  9 \n",
      "Minimum array value:  1\n"
     ]
    }
   ],
   "source": [
    "# minimum and maximun values of an array\n",
    "array_max, array_min = b.max(), b.min()\n",
    "print(\"Maximun array value: \", array_max,\"\\nMinimum array value: \", array_min)"
   ]
  },
  {
   "cell_type": "code",
   "execution_count": 45,
   "id": "cb0ef462",
   "metadata": {},
   "outputs": [
    {
     "name": "stdout",
     "output_type": "stream",
     "text": [
      "Array index with maximum value:  9 \n",
      "Array index with minimum value:  1\n"
     ]
    }
   ],
   "source": [
    "# in some cases we want to get the index of the minimun and maximum values\n",
    "array_max_idx, array_min_idx = b.argmax(), b.argmin()\n",
    "print(\"Array index with maximum value: \", array_max,\"\\nArray index with minimum value: \", array_min)"
   ]
  },
  {
   "cell_type": "code",
   "execution_count": 46,
   "id": "18747eb2",
   "metadata": {},
   "outputs": [
    {
     "name": "stdout",
     "output_type": "stream",
     "text": [
      "8\n"
     ]
    }
   ],
   "source": [
    "# the maximun index - minum index is represented by\n",
    "peak_to_peak = b.ptp()\n",
    "print(peak_to_peak)"
   ]
  },
  {
   "cell_type": "markdown",
   "id": "0147ff7a",
   "metadata": {},
   "source": [
    "## Faltten arrays\n",
    "Instead of having it in rows and columns, we want to have a linear data."
   ]
  },
  {
   "cell_type": "code",
   "execution_count": 53,
   "id": "a94d1737",
   "metadata": {},
   "outputs": [
    {
     "name": "stdout",
     "output_type": "stream",
     "text": [
      "[[1 2 3]\n",
      " [4 5 6]\n",
      " [7 8 9]] \n",
      "\n",
      "[1 2 3 4 5 6 7 8 9]\n"
     ]
    }
   ],
   "source": [
    "# using reshape method\n",
    "array_flat = arr2.reshape(arr2.size)\n",
    "print(arr2, \"\\n\")\n",
    "print(array_flat)\n"
   ]
  },
  {
   "cell_type": "code",
   "execution_count": 55,
   "id": "7940b0f2",
   "metadata": {},
   "outputs": [
    {
     "name": "stdout",
     "output_type": "stream",
     "text": [
      "[1 2 3 4 5 6 7 8 9]\n"
     ]
    }
   ],
   "source": [
    "# we can also use the flatten() method, for which we don't need to pass anything\n",
    "array_flat = arr2.flatten()\n",
    "print(array_flat)"
   ]
  },
  {
   "cell_type": "code",
   "execution_count": 56,
   "id": "ee596fc1",
   "metadata": {},
   "outputs": [
    {
     "name": "stdout",
     "output_type": "stream",
     "text": [
      "[1 2 3 4 5 6 7 8 9]\n"
     ]
    }
   ],
   "source": [
    "# there is also the ravel() method\n",
    "array_flat = arr2.ravel()\n",
    "print(array_flat)"
   ]
  },
  {
   "cell_type": "markdown",
   "id": "6d57947c",
   "metadata": {},
   "source": [
    "The <code>flatten()</code> method creates a copy of the original array while the <code>rave()</code> method creates a view of the original array. The view applies changes on the original array."
   ]
  },
  {
   "cell_type": "markdown",
   "id": "1707f53e",
   "metadata": {},
   "source": [
    "## Repeat"
   ]
  },
  {
   "cell_type": "code",
   "execution_count": 57,
   "id": "66d0d42a",
   "metadata": {},
   "outputs": [
    {
     "name": "stdout",
     "output_type": "stream",
     "text": [
      "[255 255 255]\n"
     ]
    }
   ],
   "source": [
    "# repeat vlues/arrays\n",
    "array_repeat = np.repeat(255, 3)\n",
    "print(array_repeat)"
   ]
  },
  {
   "cell_type": "code",
   "execution_count": 59,
   "id": "1f751c81",
   "metadata": {},
   "outputs": [
    {
     "name": "stdout",
     "output_type": "stream",
     "text": [
      "[1 1 1 2 2 2 3 3 3 4 4 4 5 5 5 6 6 6 7 7 7 8 8 8 9 9 9]\n"
     ]
    }
   ],
   "source": [
    "# we can use the repeat method to repeat entire arrays\n",
    "array_repeat = np.repeat(arr2, 3)\n",
    "print(array_repeat)"
   ]
  },
  {
   "cell_type": "code",
   "execution_count": 60,
   "id": "4011c80c",
   "metadata": {},
   "outputs": [
    {
     "name": "stdout",
     "output_type": "stream",
     "text": [
      "[[1 1 1 2 2 2 3 3 3]\n",
      " [4 4 4 5 5 5 6 6 6]\n",
      " [7 7 7 8 8 8 9 9 9]]\n"
     ]
    }
   ],
   "source": [
    "# we can use axis to specify, if want to store in same rows\n",
    "array_repeat = np.repeat(arr2, 3, axis=1)\n",
    "print(array_repeat)"
   ]
  },
  {
   "cell_type": "code",
   "execution_count": 61,
   "id": "8059394e",
   "metadata": {},
   "outputs": [
    {
     "name": "stdout",
     "output_type": "stream",
     "text": [
      "[[1 2 3]\n",
      " [1 2 3]\n",
      " [1 2 3]\n",
      " [4 5 6]\n",
      " [4 5 6]\n",
      " [4 5 6]\n",
      " [7 8 9]\n",
      " [7 8 9]\n",
      " [7 8 9]]\n"
     ]
    }
   ],
   "source": [
    "# or same columns\n",
    "array_repeat = np.repeat(arr2, 3, axis=0)\n",
    "print(array_repeat)"
   ]
  },
  {
   "cell_type": "code",
   "execution_count": 62,
   "id": "fe1d6b81",
   "metadata": {},
   "outputs": [
    {
     "name": "stdout",
     "output_type": "stream",
     "text": [
      "[[1 2 3]\n",
      " [4 5 6]\n",
      " [7 8 9]]\n"
     ]
    }
   ],
   "source": [
    "# to make the exact opposite\n",
    "array_unique = np.unique(array_repeat, axis=0)\n",
    "print(array_unique)"
   ]
  },
  {
   "cell_type": "code",
   "execution_count": 63,
   "id": "b966afec",
   "metadata": {},
   "outputs": [
    {
     "name": "stdout",
     "output_type": "stream",
     "text": [
      "[1 5 9]\n"
     ]
    }
   ],
   "source": [
    "# To fetch the diagonal of an array\n",
    "array_diag = np.diagonal(arr2)\n",
    "print(array_diag)"
   ]
  },
  {
   "cell_type": "markdown",
   "id": "945c798a",
   "metadata": {},
   "source": [
    "## Conversion and Storage"
   ]
  },
  {
   "cell_type": "code",
   "execution_count": 65,
   "id": "0e1d9727",
   "metadata": {},
   "outputs": [
    {
     "name": "stdout",
     "output_type": "stream",
     "text": [
      "<class 'list'>\n",
      "[[1, 2, 3], [4, 5, 6], [7, 8, 9]]\n"
     ]
    }
   ],
   "source": [
    "# conver array into lists\n",
    "my_list = arr2.tolist()\n",
    "print(type(my_list))\n",
    "print(my_list)"
   ]
  },
  {
   "cell_type": "code",
   "execution_count": 66,
   "id": "d031ab56",
   "metadata": {},
   "outputs": [],
   "source": [
    "#store array into a file\n",
    "arr2.tofile(\"my_array.txt\", sep=\",\")\n",
    "# sep stands for seperator\n",
    "\n"
   ]
  },
  {
   "cell_type": "markdown",
   "id": "4339909f",
   "metadata": {},
   "source": [
    "## Transposition\n",
    "Swapping axeses or flipping rows with columns\n"
   ]
  },
  {
   "cell_type": "code",
   "execution_count": 70,
   "id": "2a166484",
   "metadata": {},
   "outputs": [
    {
     "name": "stdout",
     "output_type": "stream",
     "text": [
      "[[1 2 3]\n",
      " [4 5 6]\n",
      " [7 8 9]] \n",
      "\n",
      "[[1 4 7]\n",
      " [2 5 8]\n",
      " [3 6 9]]\n"
     ]
    }
   ],
   "source": [
    "# usng the swapaxes method\n",
    "array_swapped = np.swapaxes(arr2, 0, 1)\n",
    "print(arr2, \"\\n\")\n",
    "print(array_swapped)"
   ]
  },
  {
   "cell_type": "code",
   "execution_count": 71,
   "id": "1624f927",
   "metadata": {},
   "outputs": [
    {
     "name": "stdout",
     "output_type": "stream",
     "text": [
      "[[1 4 7]\n",
      " [2 5 8]\n",
      " [3 6 9]]\n"
     ]
    }
   ],
   "source": [
    "# using the transpose method\n",
    "array_swapped = arr2.transpose(1, 0)\n",
    "print(array_swapped)"
   ]
  },
  {
   "cell_type": "code",
   "execution_count": 72,
   "id": "a2aa995a",
   "metadata": {},
   "outputs": [
    {
     "name": "stdout",
     "output_type": "stream",
     "text": [
      "[[1 4 7]\n",
      " [2 5 8]\n",
      " [3 6 9]]\n"
     ]
    }
   ],
   "source": [
    "# using an attribute\n",
    "array_swapped = arr2.T\n",
    "# T attribute means transpose\n",
    "print(array_swapped)"
   ]
  },
  {
   "cell_type": "code",
   "execution_count": null,
   "id": "65a1a4c0",
   "metadata": {},
   "outputs": [],
   "source": []
  }
 ],
 "metadata": {
  "kernelspec": {
   "display_name": "Python 3 (ipykernel)",
   "language": "python",
   "name": "python3"
  },
  "language_info": {
   "codemirror_mode": {
    "name": "ipython",
    "version": 3
   },
   "file_extension": ".py",
   "mimetype": "text/x-python",
   "name": "python",
   "nbconvert_exporter": "python",
   "pygments_lexer": "ipython3",
   "version": "3.10.9"
  }
 },
 "nbformat": 4,
 "nbformat_minor": 5
}
