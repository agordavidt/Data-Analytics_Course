{
 "cells": [
  {
   "cell_type": "code",
   "execution_count": 169,
   "id": "d1562b80",
   "metadata": {},
   "outputs": [],
   "source": [
    "# import numpy (numeric python) module\n",
    "import numpy as np"
   ]
  },
  {
   "cell_type": "code",
   "execution_count": 173,
   "id": "73e56a65",
   "metadata": {},
   "outputs": [],
   "source": [
    "# create matrices a and b\n",
    "a = np.array([[2,2,2],[2,2,2],[2,2,2]])\n",
    "b = np.array([[1,2,3],[4,5,6],[7,8,9]])\n"
   ]
  },
  {
   "cell_type": "markdown",
   "id": "46efcf4b",
   "metadata": {},
   "source": [
    "## Simple Matrix Operations"
   ]
  },
  {
   "cell_type": "code",
   "execution_count": 174,
   "id": "4169cdc0",
   "metadata": {},
   "outputs": [
    {
     "name": "stdout",
     "output_type": "stream",
     "text": [
      "[[ 3  4  5]\n",
      " [ 6  7  8]\n",
      " [ 9 10 11]]\n"
     ]
    }
   ],
   "source": [
    "# operations on 2 matrices\n",
    "simple_ops = a + b\n",
    "print(simple_ops)"
   ]
  },
  {
   "cell_type": "code",
   "execution_count": 175,
   "id": "439e6c71",
   "metadata": {},
   "outputs": [
    {
     "name": "stdout",
     "output_type": "stream",
     "text": [
      "[[-0.25  0.    0.25]\n",
      " [ 0.5   0.75  1.  ]\n",
      " [ 1.25  1.5   1.75]]\n"
     ]
    }
   ],
   "source": [
    "# we can also multiply, subtract and divide\n",
    "\n",
    "simple_ops = (a + b - 2*a)/4\n",
    "print(simple_ops)"
   ]
  },
  {
   "cell_type": "markdown",
   "id": "8c4ae202",
   "metadata": {},
   "source": [
    "All basic arithmetic operations are applicable on python as well"
   ]
  },
  {
   "cell_type": "code",
   "execution_count": 176,
   "id": "8dd42ade",
   "metadata": {},
   "outputs": [
    {
     "name": "stdout",
     "output_type": "stream",
     "text": [
      "[[1 0 1]\n",
      " [0 1 0]\n",
      " [1 0 1]]\n"
     ]
    }
   ],
   "source": [
    "# modulo operation\n",
    "mudolo = b % a\n",
    "print(mudolo)"
   ]
  },
  {
   "cell_type": "code",
   "execution_count": 177,
   "id": "5f6ef659",
   "metadata": {},
   "outputs": [
    {
     "name": "stdout",
     "output_type": "stream",
     "text": [
      "[[0.5 1.  1.5]\n",
      " [2.  2.5 3. ]\n",
      " [3.5 4.  4.5]] \n",
      "\n",
      "[[0 1 1]\n",
      " [2 2 3]\n",
      " [3 4 4]]\n"
     ]
    }
   ],
   "source": [
    "# floor_division\n",
    "floor_division = b // a\n",
    "print(b/a, \"\\n\")\n",
    "print(floor_division)"
   ]
  },
  {
   "cell_type": "code",
   "execution_count": 180,
   "id": "17e3373c",
   "metadata": {},
   "outputs": [
    {
     "name": "stdout",
     "output_type": "stream",
     "text": [
      "[[0. 1. 1.]\n",
      " [2. 2. 3.]\n",
      " [3. 4. 4.]]\n"
     ]
    }
   ],
   "source": [
    "# we can also do the floor division using np method\n",
    "floor_division = np.floor(b/a)\n",
    "print(floor_division)"
   ]
  },
  {
   "cell_type": "markdown",
   "id": "1a3c4bf7",
   "metadata": {},
   "source": [
    "## Matrix Multiplication"
   ]
  },
  {
   "cell_type": "code",
   "execution_count": 185,
   "id": "1a1d4dd2",
   "metadata": {},
   "outputs": [
    {
     "name": "stdout",
     "output_type": "stream",
     "text": [
      "[[2 2 2]\n",
      " [2 2 2]\n",
      " [2 2 2]] \n",
      "\n",
      "[[1 2 3]\n",
      " [4 5 6]\n",
      " [7 8 9]] \n",
      "\n",
      "[[ 2  4  6]\n",
      " [ 8 10 12]\n",
      " [14 16 18]]\n"
     ]
    }
   ],
   "source": [
    "3 multiplication of the matrix elements\n",
    "print(a, '\\n')\n",
    "print(b, '\\n')\n",
    "print(a*b)"
   ]
  },
  {
   "cell_type": "code",
   "execution_count": 186,
   "id": "fb43a69e",
   "metadata": {},
   "outputs": [
    {
     "name": "stdout",
     "output_type": "stream",
     "text": [
      "[[24 30 36]\n",
      " [24 30 36]\n",
      " [24 30 36]]\n"
     ]
    }
   ],
   "source": [
    "# multiplication of the matrices\n",
    "matrix_multiply = np.matmul(a, b)\n",
    "print(matrix_multiply)"
   ]
  },
  {
   "cell_type": "code",
   "execution_count": 187,
   "id": "61389407",
   "metadata": {},
   "outputs": [
    {
     "name": "stdout",
     "output_type": "stream",
     "text": [
      "[[24 30 36]\n",
      " [24 30 36]\n",
      " [24 30 36]]\n"
     ]
    }
   ],
   "source": [
    "# we can also use the dot method\n",
    "matrix_multiply = a.dot(b)\n",
    "print(matrix_multiply)"
   ]
  },
  {
   "cell_type": "code",
   "execution_count": 188,
   "id": "6b134e8b",
   "metadata": {},
   "outputs": [
    {
     "name": "stdout",
     "output_type": "stream",
     "text": [
      "[[24 30 36]\n",
      " [24 30 36]\n",
      " [24 30 36]]\n"
     ]
    }
   ],
   "source": [
    "# another way is using the @\n",
    "print(a@b)"
   ]
  },
  {
   "cell_type": "code",
   "execution_count": null,
   "id": "8506c70f",
   "metadata": {},
   "outputs": [],
   "source": []
  }
 ],
 "metadata": {
  "kernelspec": {
   "display_name": "Python 3 (ipykernel)",
   "language": "python",
   "name": "python3"
  },
  "language_info": {
   "codemirror_mode": {
    "name": "ipython",
    "version": 3
   },
   "file_extension": ".py",
   "mimetype": "text/x-python",
   "name": "python",
   "nbconvert_exporter": "python",
   "pygments_lexer": "ipython3",
   "version": "3.10.9"
  }
 },
 "nbformat": 4,
 "nbformat_minor": 5
}
